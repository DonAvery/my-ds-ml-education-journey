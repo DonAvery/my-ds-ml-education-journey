{
 "cells": [
  {
   "cell_type": "markdown",
   "id": "a383df5f",
   "metadata": {},
   "source": [
    "# Dataset\n",
    "\n",
    "In this homework, we will use Credit Card Data from book \"Econometric Analysis\".\n",
    "\n",
    "Here's a wget-able link:\n",
    "\n",
    "wget https://raw.githubusercontent.com/alexeygrigorev/datasets/master/AER_credit_card_data.csv\n",
    "\n",
    "The goal of this homework is to inspect the output of different evaluation metrics by creating a classification model (target column `card`).\n",
    "\n",
    "# Preparation\n",
    "\n",
    "- Create the target variable by mapping `yes` to 1 and `no` to 0.\n",
    "- Split the dataset into 3 parts: train/validation/test with 60%/20%/20% distribution. Use `train_test_split` funciton for that with `random_state=1`."
   ]
  },
  {
   "cell_type": "code",
   "execution_count": 37,
   "id": "6b2c2d88",
   "metadata": {},
   "outputs": [],
   "source": [
    "import pandas as pd\n",
    "import numpy as np\n",
    "import matplotlib.pyplot as plt\n",
    "\n",
    "import urllib.request"
   ]
  },
  {
   "cell_type": "code",
   "execution_count": 38,
   "id": "7f35d11e",
   "metadata": {},
   "outputs": [],
   "source": [
    "url = 'https://raw.githubusercontent.com/alexeygrigorev/datasets/master/AER_credit_card_data.csv'\n",
    "\n",
    "filename = 'AER-credit-card.csv'\n",
    "\n",
    "df = pd.read_csv(url)"
   ]
  },
  {
   "cell_type": "code",
   "execution_count": 39,
   "id": "19a72767",
   "metadata": {},
   "outputs": [
    {
     "data": {
      "text/html": [
       "<div>\n",
       "<style scoped>\n",
       "    .dataframe tbody tr th:only-of-type {\n",
       "        vertical-align: middle;\n",
       "    }\n",
       "\n",
       "    .dataframe tbody tr th {\n",
       "        vertical-align: top;\n",
       "    }\n",
       "\n",
       "    .dataframe thead th {\n",
       "        text-align: right;\n",
       "    }\n",
       "</style>\n",
       "<table border=\"1\" class=\"dataframe\">\n",
       "  <thead>\n",
       "    <tr style=\"text-align: right;\">\n",
       "      <th></th>\n",
       "      <th>card</th>\n",
       "      <th>reports</th>\n",
       "      <th>age</th>\n",
       "      <th>income</th>\n",
       "      <th>share</th>\n",
       "      <th>expenditure</th>\n",
       "      <th>owner</th>\n",
       "      <th>selfemp</th>\n",
       "      <th>dependents</th>\n",
       "      <th>months</th>\n",
       "      <th>majorcards</th>\n",
       "      <th>active</th>\n",
       "    </tr>\n",
       "  </thead>\n",
       "  <tbody>\n",
       "    <tr>\n",
       "      <th>0</th>\n",
       "      <td>yes</td>\n",
       "      <td>0</td>\n",
       "      <td>37.66667</td>\n",
       "      <td>4.5200</td>\n",
       "      <td>0.033270</td>\n",
       "      <td>124.983300</td>\n",
       "      <td>yes</td>\n",
       "      <td>no</td>\n",
       "      <td>3</td>\n",
       "      <td>54</td>\n",
       "      <td>1</td>\n",
       "      <td>12</td>\n",
       "    </tr>\n",
       "    <tr>\n",
       "      <th>1</th>\n",
       "      <td>yes</td>\n",
       "      <td>0</td>\n",
       "      <td>33.25000</td>\n",
       "      <td>2.4200</td>\n",
       "      <td>0.005217</td>\n",
       "      <td>9.854167</td>\n",
       "      <td>no</td>\n",
       "      <td>no</td>\n",
       "      <td>3</td>\n",
       "      <td>34</td>\n",
       "      <td>1</td>\n",
       "      <td>13</td>\n",
       "    </tr>\n",
       "    <tr>\n",
       "      <th>2</th>\n",
       "      <td>yes</td>\n",
       "      <td>0</td>\n",
       "      <td>33.66667</td>\n",
       "      <td>4.5000</td>\n",
       "      <td>0.004156</td>\n",
       "      <td>15.000000</td>\n",
       "      <td>yes</td>\n",
       "      <td>no</td>\n",
       "      <td>4</td>\n",
       "      <td>58</td>\n",
       "      <td>1</td>\n",
       "      <td>5</td>\n",
       "    </tr>\n",
       "    <tr>\n",
       "      <th>3</th>\n",
       "      <td>yes</td>\n",
       "      <td>0</td>\n",
       "      <td>30.50000</td>\n",
       "      <td>2.5400</td>\n",
       "      <td>0.065214</td>\n",
       "      <td>137.869200</td>\n",
       "      <td>no</td>\n",
       "      <td>no</td>\n",
       "      <td>0</td>\n",
       "      <td>25</td>\n",
       "      <td>1</td>\n",
       "      <td>7</td>\n",
       "    </tr>\n",
       "    <tr>\n",
       "      <th>4</th>\n",
       "      <td>yes</td>\n",
       "      <td>0</td>\n",
       "      <td>32.16667</td>\n",
       "      <td>9.7867</td>\n",
       "      <td>0.067051</td>\n",
       "      <td>546.503300</td>\n",
       "      <td>yes</td>\n",
       "      <td>no</td>\n",
       "      <td>2</td>\n",
       "      <td>64</td>\n",
       "      <td>1</td>\n",
       "      <td>5</td>\n",
       "    </tr>\n",
       "  </tbody>\n",
       "</table>\n",
       "</div>"
      ],
      "text/plain": [
       "  card  reports       age  income     share  expenditure owner selfemp  \\\n",
       "0  yes        0  37.66667  4.5200  0.033270   124.983300   yes      no   \n",
       "1  yes        0  33.25000  2.4200  0.005217     9.854167    no      no   \n",
       "2  yes        0  33.66667  4.5000  0.004156    15.000000   yes      no   \n",
       "3  yes        0  30.50000  2.5400  0.065214   137.869200    no      no   \n",
       "4  yes        0  32.16667  9.7867  0.067051   546.503300   yes      no   \n",
       "\n",
       "   dependents  months  majorcards  active  \n",
       "0           3      54           1      12  \n",
       "1           3      34           1      13  \n",
       "2           4      58           1       5  \n",
       "3           0      25           1       7  \n",
       "4           2      64           1       5  "
      ]
     },
     "execution_count": 39,
     "metadata": {},
     "output_type": "execute_result"
    }
   ],
   "source": [
    "df.head()"
   ]
  },
  {
   "cell_type": "code",
   "execution_count": 40,
   "id": "1d53b475",
   "metadata": {},
   "outputs": [],
   "source": [
    "df.card = (df.card == 'yes').astype(int)"
   ]
  },
  {
   "cell_type": "code",
   "execution_count": 50,
   "id": "19746916",
   "metadata": {},
   "outputs": [],
   "source": [
    "from sklearn.model_selection import train_test_split\n",
    "from sklearn.feature_extraction import DictVectorizer\n",
    "from sklearn.linear_model import LogisticRegression\n",
    "from sklearn.metrics import accuracy_score"
   ]
  },
  {
   "cell_type": "code",
   "execution_count": 42,
   "id": "5995949a",
   "metadata": {},
   "outputs": [
    {
     "data": {
      "text/plain": [
       "(1319, 12)"
      ]
     },
     "execution_count": 42,
     "metadata": {},
     "output_type": "execute_result"
    }
   ],
   "source": [
    "df.shape"
   ]
  },
  {
   "cell_type": "code",
   "execution_count": 43,
   "id": "49066d14",
   "metadata": {},
   "outputs": [
    {
     "data": {
      "text/html": [
       "<div>\n",
       "<style scoped>\n",
       "    .dataframe tbody tr th:only-of-type {\n",
       "        vertical-align: middle;\n",
       "    }\n",
       "\n",
       "    .dataframe tbody tr th {\n",
       "        vertical-align: top;\n",
       "    }\n",
       "\n",
       "    .dataframe thead th {\n",
       "        text-align: right;\n",
       "    }\n",
       "</style>\n",
       "<table border=\"1\" class=\"dataframe\">\n",
       "  <thead>\n",
       "    <tr style=\"text-align: right;\">\n",
       "      <th></th>\n",
       "      <th>card</th>\n",
       "      <th>reports</th>\n",
       "      <th>age</th>\n",
       "      <th>income</th>\n",
       "      <th>share</th>\n",
       "      <th>expenditure</th>\n",
       "      <th>owner</th>\n",
       "      <th>selfemp</th>\n",
       "      <th>dependents</th>\n",
       "      <th>months</th>\n",
       "      <th>majorcards</th>\n",
       "      <th>active</th>\n",
       "    </tr>\n",
       "  </thead>\n",
       "  <tbody>\n",
       "    <tr>\n",
       "      <th>0</th>\n",
       "      <td>1</td>\n",
       "      <td>0</td>\n",
       "      <td>37.66667</td>\n",
       "      <td>4.5200</td>\n",
       "      <td>0.033270</td>\n",
       "      <td>124.983300</td>\n",
       "      <td>yes</td>\n",
       "      <td>no</td>\n",
       "      <td>3</td>\n",
       "      <td>54</td>\n",
       "      <td>1</td>\n",
       "      <td>12</td>\n",
       "    </tr>\n",
       "    <tr>\n",
       "      <th>1</th>\n",
       "      <td>1</td>\n",
       "      <td>0</td>\n",
       "      <td>33.25000</td>\n",
       "      <td>2.4200</td>\n",
       "      <td>0.005217</td>\n",
       "      <td>9.854167</td>\n",
       "      <td>no</td>\n",
       "      <td>no</td>\n",
       "      <td>3</td>\n",
       "      <td>34</td>\n",
       "      <td>1</td>\n",
       "      <td>13</td>\n",
       "    </tr>\n",
       "    <tr>\n",
       "      <th>2</th>\n",
       "      <td>1</td>\n",
       "      <td>0</td>\n",
       "      <td>33.66667</td>\n",
       "      <td>4.5000</td>\n",
       "      <td>0.004156</td>\n",
       "      <td>15.000000</td>\n",
       "      <td>yes</td>\n",
       "      <td>no</td>\n",
       "      <td>4</td>\n",
       "      <td>58</td>\n",
       "      <td>1</td>\n",
       "      <td>5</td>\n",
       "    </tr>\n",
       "    <tr>\n",
       "      <th>3</th>\n",
       "      <td>1</td>\n",
       "      <td>0</td>\n",
       "      <td>30.50000</td>\n",
       "      <td>2.5400</td>\n",
       "      <td>0.065214</td>\n",
       "      <td>137.869200</td>\n",
       "      <td>no</td>\n",
       "      <td>no</td>\n",
       "      <td>0</td>\n",
       "      <td>25</td>\n",
       "      <td>1</td>\n",
       "      <td>7</td>\n",
       "    </tr>\n",
       "    <tr>\n",
       "      <th>4</th>\n",
       "      <td>1</td>\n",
       "      <td>0</td>\n",
       "      <td>32.16667</td>\n",
       "      <td>9.7867</td>\n",
       "      <td>0.067051</td>\n",
       "      <td>546.503300</td>\n",
       "      <td>yes</td>\n",
       "      <td>no</td>\n",
       "      <td>2</td>\n",
       "      <td>64</td>\n",
       "      <td>1</td>\n",
       "      <td>5</td>\n",
       "    </tr>\n",
       "    <tr>\n",
       "      <th>...</th>\n",
       "      <td>...</td>\n",
       "      <td>...</td>\n",
       "      <td>...</td>\n",
       "      <td>...</td>\n",
       "      <td>...</td>\n",
       "      <td>...</td>\n",
       "      <td>...</td>\n",
       "      <td>...</td>\n",
       "      <td>...</td>\n",
       "      <td>...</td>\n",
       "      <td>...</td>\n",
       "      <td>...</td>\n",
       "    </tr>\n",
       "    <tr>\n",
       "      <th>1314</th>\n",
       "      <td>1</td>\n",
       "      <td>0</td>\n",
       "      <td>33.58333</td>\n",
       "      <td>4.5660</td>\n",
       "      <td>0.002146</td>\n",
       "      <td>7.333333</td>\n",
       "      <td>yes</td>\n",
       "      <td>no</td>\n",
       "      <td>0</td>\n",
       "      <td>94</td>\n",
       "      <td>1</td>\n",
       "      <td>19</td>\n",
       "    </tr>\n",
       "    <tr>\n",
       "      <th>1315</th>\n",
       "      <td>0</td>\n",
       "      <td>5</td>\n",
       "      <td>23.91667</td>\n",
       "      <td>3.1920</td>\n",
       "      <td>0.000376</td>\n",
       "      <td>0.000000</td>\n",
       "      <td>no</td>\n",
       "      <td>no</td>\n",
       "      <td>3</td>\n",
       "      <td>12</td>\n",
       "      <td>1</td>\n",
       "      <td>5</td>\n",
       "    </tr>\n",
       "    <tr>\n",
       "      <th>1316</th>\n",
       "      <td>1</td>\n",
       "      <td>0</td>\n",
       "      <td>40.58333</td>\n",
       "      <td>4.6000</td>\n",
       "      <td>0.026513</td>\n",
       "      <td>101.298300</td>\n",
       "      <td>yes</td>\n",
       "      <td>no</td>\n",
       "      <td>2</td>\n",
       "      <td>1</td>\n",
       "      <td>1</td>\n",
       "      <td>2</td>\n",
       "    </tr>\n",
       "    <tr>\n",
       "      <th>1317</th>\n",
       "      <td>1</td>\n",
       "      <td>0</td>\n",
       "      <td>32.83333</td>\n",
       "      <td>3.7000</td>\n",
       "      <td>0.008999</td>\n",
       "      <td>26.996670</td>\n",
       "      <td>no</td>\n",
       "      <td>yes</td>\n",
       "      <td>0</td>\n",
       "      <td>60</td>\n",
       "      <td>1</td>\n",
       "      <td>7</td>\n",
       "    </tr>\n",
       "    <tr>\n",
       "      <th>1318</th>\n",
       "      <td>1</td>\n",
       "      <td>0</td>\n",
       "      <td>48.25000</td>\n",
       "      <td>3.7000</td>\n",
       "      <td>0.111619</td>\n",
       "      <td>344.157500</td>\n",
       "      <td>yes</td>\n",
       "      <td>no</td>\n",
       "      <td>2</td>\n",
       "      <td>2</td>\n",
       "      <td>1</td>\n",
       "      <td>0</td>\n",
       "    </tr>\n",
       "  </tbody>\n",
       "</table>\n",
       "<p>1319 rows × 12 columns</p>\n",
       "</div>"
      ],
      "text/plain": [
       "      card  reports       age  income     share  expenditure owner selfemp  \\\n",
       "0        1        0  37.66667  4.5200  0.033270   124.983300   yes      no   \n",
       "1        1        0  33.25000  2.4200  0.005217     9.854167    no      no   \n",
       "2        1        0  33.66667  4.5000  0.004156    15.000000   yes      no   \n",
       "3        1        0  30.50000  2.5400  0.065214   137.869200    no      no   \n",
       "4        1        0  32.16667  9.7867  0.067051   546.503300   yes      no   \n",
       "...    ...      ...       ...     ...       ...          ...   ...     ...   \n",
       "1314     1        0  33.58333  4.5660  0.002146     7.333333   yes      no   \n",
       "1315     0        5  23.91667  3.1920  0.000376     0.000000    no      no   \n",
       "1316     1        0  40.58333  4.6000  0.026513   101.298300   yes      no   \n",
       "1317     1        0  32.83333  3.7000  0.008999    26.996670    no     yes   \n",
       "1318     1        0  48.25000  3.7000  0.111619   344.157500   yes      no   \n",
       "\n",
       "      dependents  months  majorcards  active  \n",
       "0              3      54           1      12  \n",
       "1              3      34           1      13  \n",
       "2              4      58           1       5  \n",
       "3              0      25           1       7  \n",
       "4              2      64           1       5  \n",
       "...          ...     ...         ...     ...  \n",
       "1314           0      94           1      19  \n",
       "1315           3      12           1       5  \n",
       "1316           2       1           1       2  \n",
       "1317           0      60           1       7  \n",
       "1318           2       2           1       0  \n",
       "\n",
       "[1319 rows x 12 columns]"
      ]
     },
     "execution_count": 43,
     "metadata": {},
     "output_type": "execute_result"
    }
   ],
   "source": [
    "df"
   ]
  },
  {
   "cell_type": "code",
   "execution_count": 44,
   "id": "c76773ca",
   "metadata": {},
   "outputs": [],
   "source": [
    "df_full_train, df_test = train_test_split(df, test_size=0.2, random_state=1)"
   ]
  },
  {
   "cell_type": "code",
   "execution_count": 45,
   "id": "be20e12b",
   "metadata": {},
   "outputs": [],
   "source": [
    "df_train, df_val = train_test_split(df_full_train, test_size=len(df_test), random_state=1)"
   ]
  },
  {
   "cell_type": "code",
   "execution_count": 46,
   "id": "2cad17c3",
   "metadata": {},
   "outputs": [],
   "source": [
    "df_train = df_train.reset_index(drop=True)\n",
    "df_val = df_val.reset_index(drop=True)\n",
    "df_test = df_test.reset_index(drop=True)"
   ]
  },
  {
   "cell_type": "code",
   "execution_count": 47,
   "id": "879ea076",
   "metadata": {},
   "outputs": [],
   "source": [
    "y_train = df_train.card.values\n",
    "y_val = df_val.card.values\n",
    "y_test = df_test.card.values"
   ]
  },
  {
   "cell_type": "code",
   "execution_count": 48,
   "id": "15c87f1c",
   "metadata": {},
   "outputs": [],
   "source": [
    "del df_train['card']\n",
    "del df_val['card']\n",
    "del df_test['card']"
   ]
  },
  {
   "cell_type": "markdown",
   "id": "c2a146d2",
   "metadata": {},
   "source": [
    "# Question 1\n",
    "\n",
    "ROC AUC could also be used to evaluate feature importance of numerical variables.\n",
    "\n",
    "Let's do that\n",
    "\n",
    "- For each numerical variable, use it as score and compute AUC with the `card` variable.\n",
    "- Use the training dataset for that.\n",
    "\n",
    "If your AUC is < 0.5, invert this variable by putting \"-\" in front\n",
    "\n",
    "(e.g. `-df_train['expenditure']`)\n",
    "\n",
    "AUC can go below 0.5 if the variable is negatively correlated with the target varialble. You can change the direction of the correlation by negating this variable - then negative correlation becomes positive.\n",
    "\n",
    "Which numerical variable (among the following 4) has the highest AUC?\n",
    "\n",
    "- `reports`\n",
    "- `dependents`\n",
    "- `active`\n",
    "- `share`\n",
    "\n",
    "# Training the model\n",
    "\n",
    "From now on, use these columns only:\n",
    "\n",
    "`[\"reports\", \"age\", \"income\", \"share\", \"expenditure\", \"dependents\", \"months\", \"majorcards\", \"active\", \"owner\", \"selfemp\"]`\n",
    "\n",
    "Apply one-hot-encoding using `DictVectorizer` and train the logistic regression with these parameters:\n",
    "\n",
    "LogisticRegression(solver='liblinear', C=1.0, max_iter=1000)"
   ]
  },
  {
   "cell_type": "code",
   "execution_count": 173,
   "id": "6765abdc",
   "metadata": {},
   "outputs": [],
   "source": [
    "from sklearn.metrics import roc_curve\n",
    "from sklearn.metrics import auc\n",
    "from sklearn.metrics import roc_auc_score"
   ]
  },
  {
   "cell_type": "code",
   "execution_count": 59,
   "id": "7dfebd0a",
   "metadata": {},
   "outputs": [],
   "source": [
    "numerical = ['reports', 'age', 'income', 'share', 'expenditure', 'dependents', 'months', 'majorcards', 'active']\n",
    "categorical = ['owner', 'selfemp']"
   ]
  },
  {
   "cell_type": "code",
   "execution_count": 112,
   "id": "b48f01e5",
   "metadata": {},
   "outputs": [
    {
     "name": "stdout",
     "output_type": "stream",
     "text": [
      "reports 0.2999411104363348\n",
      "age 0.4654805940484734\n",
      "income 0.5279081322806823\n",
      "share 0.7369706840390879\n",
      "expenditure 0.7198697068403909\n",
      "dependents 0.4633964555843869\n",
      "months 0.48930326284988684\n",
      "majorcards 0.5343859842838476\n",
      "active 0.5724157603194759\n"
     ]
    }
   ],
   "source": [
    "for n in numerical:\n",
    "\n",
    "    results = df_train[n] > df_train[n].mean()\n",
    "    fpr, tpr, thresholds = roc_curve(y_train, results)\n",
    "    print(n, (auc(fpr, tpr)))\n",
    " "
   ]
  },
  {
   "cell_type": "markdown",
   "id": "b71bebcc",
   "metadata": {},
   "source": [
    "#### Answer: share"
   ]
  },
  {
   "cell_type": "code",
   "execution_count": 77,
   "id": "28aab873",
   "metadata": {},
   "outputs": [
    {
     "data": {
      "text/html": [
       "<style>#sk-container-id-2 {color: black;background-color: white;}#sk-container-id-2 pre{padding: 0;}#sk-container-id-2 div.sk-toggleable {background-color: white;}#sk-container-id-2 label.sk-toggleable__label {cursor: pointer;display: block;width: 100%;margin-bottom: 0;padding: 0.3em;box-sizing: border-box;text-align: center;}#sk-container-id-2 label.sk-toggleable__label-arrow:before {content: \"▸\";float: left;margin-right: 0.25em;color: #696969;}#sk-container-id-2 label.sk-toggleable__label-arrow:hover:before {color: black;}#sk-container-id-2 div.sk-estimator:hover label.sk-toggleable__label-arrow:before {color: black;}#sk-container-id-2 div.sk-toggleable__content {max-height: 0;max-width: 0;overflow: hidden;text-align: left;background-color: #f0f8ff;}#sk-container-id-2 div.sk-toggleable__content pre {margin: 0.2em;color: black;border-radius: 0.25em;background-color: #f0f8ff;}#sk-container-id-2 input.sk-toggleable__control:checked~div.sk-toggleable__content {max-height: 200px;max-width: 100%;overflow: auto;}#sk-container-id-2 input.sk-toggleable__control:checked~label.sk-toggleable__label-arrow:before {content: \"▾\";}#sk-container-id-2 div.sk-estimator input.sk-toggleable__control:checked~label.sk-toggleable__label {background-color: #d4ebff;}#sk-container-id-2 div.sk-label input.sk-toggleable__control:checked~label.sk-toggleable__label {background-color: #d4ebff;}#sk-container-id-2 input.sk-hidden--visually {border: 0;clip: rect(1px 1px 1px 1px);clip: rect(1px, 1px, 1px, 1px);height: 1px;margin: -1px;overflow: hidden;padding: 0;position: absolute;width: 1px;}#sk-container-id-2 div.sk-estimator {font-family: monospace;background-color: #f0f8ff;border: 1px dotted black;border-radius: 0.25em;box-sizing: border-box;margin-bottom: 0.5em;}#sk-container-id-2 div.sk-estimator:hover {background-color: #d4ebff;}#sk-container-id-2 div.sk-parallel-item::after {content: \"\";width: 100%;border-bottom: 1px solid gray;flex-grow: 1;}#sk-container-id-2 div.sk-label:hover label.sk-toggleable__label {background-color: #d4ebff;}#sk-container-id-2 div.sk-serial::before {content: \"\";position: absolute;border-left: 1px solid gray;box-sizing: border-box;top: 0;bottom: 0;left: 50%;z-index: 0;}#sk-container-id-2 div.sk-serial {display: flex;flex-direction: column;align-items: center;background-color: white;padding-right: 0.2em;padding-left: 0.2em;position: relative;}#sk-container-id-2 div.sk-item {position: relative;z-index: 1;}#sk-container-id-2 div.sk-parallel {display: flex;align-items: stretch;justify-content: center;background-color: white;position: relative;}#sk-container-id-2 div.sk-item::before, #sk-container-id-2 div.sk-parallel-item::before {content: \"\";position: absolute;border-left: 1px solid gray;box-sizing: border-box;top: 0;bottom: 0;left: 50%;z-index: -1;}#sk-container-id-2 div.sk-parallel-item {display: flex;flex-direction: column;z-index: 1;position: relative;background-color: white;}#sk-container-id-2 div.sk-parallel-item:first-child::after {align-self: flex-end;width: 50%;}#sk-container-id-2 div.sk-parallel-item:last-child::after {align-self: flex-start;width: 50%;}#sk-container-id-2 div.sk-parallel-item:only-child::after {width: 0;}#sk-container-id-2 div.sk-dashed-wrapped {border: 1px dashed gray;margin: 0 0.4em 0.5em 0.4em;box-sizing: border-box;padding-bottom: 0.4em;background-color: white;}#sk-container-id-2 div.sk-label label {font-family: monospace;font-weight: bold;display: inline-block;line-height: 1.2em;}#sk-container-id-2 div.sk-label-container {text-align: center;}#sk-container-id-2 div.sk-container {/* jupyter's `normalize.less` sets `[hidden] { display: none; }` but bootstrap.min.css set `[hidden] { display: none !important; }` so we also need the `!important` here to be able to override the default hidden behavior on the sphinx rendered scikit-learn.org. See: https://github.com/scikit-learn/scikit-learn/issues/21755 */display: inline-block !important;position: relative;}#sk-container-id-2 div.sk-text-repr-fallback {display: none;}</style><div id=\"sk-container-id-2\" class=\"sk-top-container\"><div class=\"sk-text-repr-fallback\"><pre>LogisticRegression(max_iter=1000, solver=&#x27;liblinear&#x27;)</pre><b>In a Jupyter environment, please rerun this cell to show the HTML representation or trust the notebook. <br />On GitHub, the HTML representation is unable to render, please try loading this page with nbviewer.org.</b></div><div class=\"sk-container\" hidden><div class=\"sk-item\"><div class=\"sk-estimator sk-toggleable\"><input class=\"sk-toggleable__control sk-hidden--visually\" id=\"sk-estimator-id-2\" type=\"checkbox\" checked><label for=\"sk-estimator-id-2\" class=\"sk-toggleable__label sk-toggleable__label-arrow\">LogisticRegression</label><div class=\"sk-toggleable__content\"><pre>LogisticRegression(max_iter=1000, solver=&#x27;liblinear&#x27;)</pre></div></div></div></div></div>"
      ],
      "text/plain": [
       "LogisticRegression(max_iter=1000, solver='liblinear')"
      ]
     },
     "execution_count": 77,
     "metadata": {},
     "output_type": "execute_result"
    }
   ],
   "source": [
    "dv = DictVectorizer(sparse=False)\n",
    "\n",
    "train_dict = df_train[categorical + numerical].to_dict(orient='records')\n",
    "X_train = dv.fit_transform(train_dict)\n",
    "\n",
    "model = LogisticRegression(solver='liblinear', C=1.0, max_iter=1000)\n",
    "model.fit(X_train, y_train)"
   ]
  },
  {
   "cell_type": "code",
   "execution_count": 78,
   "id": "9419c690",
   "metadata": {},
   "outputs": [
    {
     "data": {
      "text/plain": [
       "0.9696969696969697"
      ]
     },
     "execution_count": 78,
     "metadata": {},
     "output_type": "execute_result"
    }
   ],
   "source": [
    "val_dict = df_val[categorical + numerical].to_dict(orient='records')\n",
    "X_val = dv.transform(val_dict)\n",
    "\n",
    "y_pred = model.predict_proba(X_val)[:, 1]\n",
    "card_decision = (y_pred >= 0.5)\n",
    "(y_val == card_decision).mean()"
   ]
  },
  {
   "cell_type": "markdown",
   "id": "70adb6f0",
   "metadata": {},
   "source": [
    "# Question 2\n",
    "\n",
    "What's the AUC of this model on the validation dataset? (round to 3 digits)\n",
    "\n",
    "- 0.615\n",
    "- 0.515\n",
    "- 0.715\n",
    "- 0.995"
   ]
  },
  {
   "cell_type": "code",
   "execution_count": 114,
   "id": "b9d0bf86",
   "metadata": {},
   "outputs": [],
   "source": [
    "fpr, tpr, thresholds = roc_curve(y_val, y_pred)"
   ]
  },
  {
   "cell_type": "code",
   "execution_count": 115,
   "id": "9b806087",
   "metadata": {},
   "outputs": [
    {
     "data": {
      "text/plain": [
       "0.995171242063847"
      ]
     },
     "execution_count": 115,
     "metadata": {},
     "output_type": "execute_result"
    }
   ],
   "source": [
    "auc(fpr, tpr)"
   ]
  },
  {
   "cell_type": "markdown",
   "id": "fc260b16",
   "metadata": {},
   "source": [
    "#### Answer: 0.995"
   ]
  },
  {
   "cell_type": "markdown",
   "id": "aebaeea0",
   "metadata": {},
   "source": [
    "# Question 3\n",
    "\n",
    "Now let's compute precision and recall for our model.\n",
    "\n",
    "- Evaluate the model on all thresholds from 0.0 to 1.0 with step 0.01\n",
    "- For each threshold, compute precision and recall\n",
    "- Plot them\n",
    "\n",
    "At which threshold precision and recall curves intersect?\n",
    "\n",
    "- 0.1\n",
    "- 0.3\n",
    "- 0.6\n",
    "- 0.8"
   ]
  },
  {
   "cell_type": "code",
   "execution_count": 118,
   "id": "0fddf31e",
   "metadata": {},
   "outputs": [],
   "source": [
    "actual_positive = (y_val == 1)\n",
    "actual_negative = (y_val == 0)"
   ]
  },
  {
   "cell_type": "code",
   "execution_count": 120,
   "id": "cab577f8",
   "metadata": {},
   "outputs": [],
   "source": [
    "t = 0.5\n",
    "predict_positive = (y_pred >= t)\n",
    "predict_negative = (y_pred < t)"
   ]
  },
  {
   "cell_type": "code",
   "execution_count": 122,
   "id": "c8c19faa",
   "metadata": {},
   "outputs": [
    {
     "data": {
      "text/plain": [
       "(204, 52)"
      ]
     },
     "execution_count": 122,
     "metadata": {},
     "output_type": "execute_result"
    }
   ],
   "source": [
    "tp = (predict_positive & actual_positive).sum()\n",
    "tn = (predict_negative & actual_negative).sum()\n",
    "tp, tn"
   ]
  },
  {
   "cell_type": "code",
   "execution_count": 123,
   "id": "93fbe058",
   "metadata": {},
   "outputs": [
    {
     "data": {
      "text/plain": [
       "(1, 7)"
      ]
     },
     "execution_count": 123,
     "metadata": {},
     "output_type": "execute_result"
    }
   ],
   "source": [
    "fp = (predict_positive & actual_negative).sum()\n",
    "fn = (predict_negative & actual_positive).sum()\n",
    "fp, fn"
   ]
  },
  {
   "cell_type": "code",
   "execution_count": 124,
   "id": "b52d16a1",
   "metadata": {},
   "outputs": [
    {
     "data": {
      "text/plain": [
       "array([[ 52,   1],\n",
       "       [  7, 204]])"
      ]
     },
     "execution_count": 124,
     "metadata": {},
     "output_type": "execute_result"
    }
   ],
   "source": [
    "confusion_matrix = np.array([\n",
    "    [tn, fp],\n",
    "    [fn, tp]  \n",
    "])\n",
    "confusion_matrix"
   ]
  },
  {
   "cell_type": "code",
   "execution_count": 125,
   "id": "f0a9ab40",
   "metadata": {},
   "outputs": [
    {
     "data": {
      "text/plain": [
       "0.9696969696969697"
      ]
     },
     "execution_count": 125,
     "metadata": {},
     "output_type": "execute_result"
    }
   ],
   "source": [
    "(tp + tn) / (tp + tn + fp + fn) # accuracy score of our model"
   ]
  },
  {
   "cell_type": "code",
   "execution_count": 126,
   "id": "72384d58",
   "metadata": {},
   "outputs": [
    {
     "data": {
      "text/plain": [
       "0.9951219512195122"
      ]
     },
     "execution_count": 126,
     "metadata": {},
     "output_type": "execute_result"
    }
   ],
   "source": [
    "p = tp / (fp + tp)\n",
    "p"
   ]
  },
  {
   "cell_type": "code",
   "execution_count": 127,
   "id": "121f0242",
   "metadata": {},
   "outputs": [
    {
     "data": {
      "text/plain": [
       "0.966824644549763"
      ]
     },
     "execution_count": 127,
     "metadata": {},
     "output_type": "execute_result"
    }
   ],
   "source": [
    "r = tp / (tp + fn)\n",
    "r"
   ]
  },
  {
   "cell_type": "code",
   "execution_count": 128,
   "id": "59236f9e",
   "metadata": {},
   "outputs": [
    {
     "data": {
      "text/plain": [
       "0.966824644549763"
      ]
     },
     "execution_count": 128,
     "metadata": {},
     "output_type": "execute_result"
    }
   ],
   "source": [
    "tpr = tp / (fn + tp)\n",
    "tpr"
   ]
  },
  {
   "cell_type": "code",
   "execution_count": 129,
   "id": "f81300f1",
   "metadata": {},
   "outputs": [
    {
     "data": {
      "text/plain": [
       "0.018867924528301886"
      ]
     },
     "execution_count": 129,
     "metadata": {},
     "output_type": "execute_result"
    }
   ],
   "source": [
    "fpr = fp / (tn + fp)\n",
    "fpr"
   ]
  },
  {
   "cell_type": "code",
   "execution_count": 140,
   "id": "765003c2",
   "metadata": {},
   "outputs": [],
   "source": [
    "scores = []\n",
    "\n",
    "thresholds = np.linspace(0, 1, 101)\n",
    "\n",
    "for t in thresholds:\n",
    "    actual_positive = (y_val == 1)\n",
    "    actual_negative = (y_val == 0)\n",
    "    \n",
    "    predict_positive = (y_pred >= t)\n",
    "    predict_negative = (y_pred < t)\n",
    "    \n",
    "    tp = (predict_positive & actual_positive).sum()\n",
    "    tn = (predict_negative & actual_negative).sum()\n",
    "    \n",
    "    fp = (predict_positive & actual_negative).sum()\n",
    "    fn = (predict_negative & actual_positive).sum()\n",
    "    \n",
    "    r_thres = tp / (tp + fn)\n",
    "    p_thres = tp / (fp + tp)\n",
    "    \n",
    "    scores.append((t, round(r_thres, 3), round(p_thres, 3)))"
   ]
  },
  {
   "cell_type": "code",
   "execution_count": 141,
   "id": "a00e66e5",
   "metadata": {},
   "outputs": [
    {
     "data": {
      "text/plain": [
       "[(0.0, 1.0, 0.799),\n",
       " (0.01, 1.0, 0.861),\n",
       " (0.02, 1.0, 0.872),\n",
       " (0.03, 1.0, 0.898),\n",
       " (0.04, 1.0, 0.906),\n",
       " (0.05, 1.0, 0.906),\n",
       " (0.06, 1.0, 0.917),\n",
       " (0.07, 1.0, 0.917),\n",
       " (0.08, 0.995, 0.921),\n",
       " (0.09, 0.995, 0.921),\n",
       " (0.1, 0.995, 0.925),\n",
       " (0.11, 0.995, 0.925),\n",
       " (0.12, 0.995, 0.925),\n",
       " (0.13, 0.995, 0.95),\n",
       " (0.14, 0.986, 0.959),\n",
       " (0.15, 0.986, 0.959),\n",
       " (0.16, 0.986, 0.967),\n",
       " (0.17, 0.986, 0.967),\n",
       " (0.18, 0.981, 0.972),\n",
       " (0.19, 0.981, 0.976),\n",
       " (0.2, 0.981, 0.976),\n",
       " (0.21, 0.981, 0.976),\n",
       " (0.22, 0.981, 0.976),\n",
       " (0.23, 0.981, 0.976),\n",
       " (0.24, 0.976, 0.976),\n",
       " (0.25, 0.976, 0.976),\n",
       " (0.26, 0.976, 0.976),\n",
       " (0.27, 0.976, 0.976),\n",
       " (0.28, 0.976, 0.976),\n",
       " (0.29, 0.976, 0.976),\n",
       " (0.3, 0.972, 0.976),\n",
       " (0.31, 0.972, 0.981),\n",
       " (0.32, 0.972, 0.981),\n",
       " (0.33, 0.972, 0.981),\n",
       " (0.34, 0.972, 0.99),\n",
       " (0.35000000000000003, 0.972, 0.995),\n",
       " (0.36, 0.972, 0.995),\n",
       " (0.37, 0.972, 0.995),\n",
       " (0.38, 0.972, 0.995),\n",
       " (0.39, 0.972, 0.995),\n",
       " (0.4, 0.972, 0.995),\n",
       " (0.41000000000000003, 0.972, 0.995),\n",
       " (0.42, 0.967, 0.995),\n",
       " (0.43, 0.967, 0.995),\n",
       " (0.44, 0.967, 0.995),\n",
       " (0.45, 0.967, 0.995),\n",
       " (0.46, 0.967, 0.995),\n",
       " (0.47000000000000003, 0.967, 0.995),\n",
       " (0.48, 0.967, 0.995),\n",
       " (0.49, 0.967, 0.995),\n",
       " (0.5, 0.967, 0.995),\n",
       " (0.51, 0.967, 0.995),\n",
       " (0.52, 0.967, 0.995),\n",
       " (0.53, 0.967, 0.995),\n",
       " (0.54, 0.967, 0.995),\n",
       " (0.55, 0.967, 0.995),\n",
       " (0.56, 0.967, 0.995),\n",
       " (0.5700000000000001, 0.967, 0.995),\n",
       " (0.58, 0.967, 0.995),\n",
       " (0.59, 0.967, 0.995),\n",
       " (0.6, 0.967, 0.995),\n",
       " (0.61, 0.967, 0.995),\n",
       " (0.62, 0.967, 0.995),\n",
       " (0.63, 0.967, 0.995),\n",
       " (0.64, 0.967, 0.995),\n",
       " (0.65, 0.967, 0.995),\n",
       " (0.66, 0.967, 0.995),\n",
       " (0.67, 0.967, 0.995),\n",
       " (0.68, 0.967, 0.995),\n",
       " (0.6900000000000001, 0.967, 0.995),\n",
       " (0.7000000000000001, 0.967, 0.995),\n",
       " (0.71, 0.967, 0.995),\n",
       " (0.72, 0.967, 0.995),\n",
       " (0.73, 0.967, 0.995),\n",
       " (0.74, 0.967, 0.995),\n",
       " (0.75, 0.967, 0.995),\n",
       " (0.76, 0.967, 0.995),\n",
       " (0.77, 0.967, 0.995),\n",
       " (0.78, 0.967, 0.995),\n",
       " (0.79, 0.967, 0.995),\n",
       " (0.8, 0.967, 0.995),\n",
       " (0.81, 0.967, 0.995),\n",
       " (0.8200000000000001, 0.967, 0.995),\n",
       " (0.8300000000000001, 0.967, 0.995),\n",
       " (0.84, 0.967, 0.995),\n",
       " (0.85, 0.967, 1.0),\n",
       " (0.86, 0.967, 1.0),\n",
       " (0.87, 0.967, 1.0),\n",
       " (0.88, 0.967, 1.0),\n",
       " (0.89, 0.967, 1.0),\n",
       " (0.9, 0.967, 1.0),\n",
       " (0.91, 0.967, 1.0),\n",
       " (0.92, 0.967, 1.0),\n",
       " (0.93, 0.967, 1.0),\n",
       " (0.9400000000000001, 0.967, 1.0),\n",
       " (0.9500000000000001, 0.967, 1.0),\n",
       " (0.96, 0.967, 1.0),\n",
       " (0.97, 0.962, 1.0),\n",
       " (0.98, 0.962, 1.0),\n",
       " (0.99, 0.957, 1.0),\n",
       " (1.0, 0.848, 1.0)]"
      ]
     },
     "execution_count": 141,
     "metadata": {},
     "output_type": "execute_result"
    }
   ],
   "source": [
    "scores"
   ]
  },
  {
   "cell_type": "code",
   "execution_count": 142,
   "id": "299bfdb1",
   "metadata": {},
   "outputs": [],
   "source": [
    "df_scores = pd.DataFrame(scores)"
   ]
  },
  {
   "cell_type": "code",
   "execution_count": 143,
   "id": "383fd783",
   "metadata": {},
   "outputs": [],
   "source": [
    "columns = ['threshold', 'r_thres', 'p_thres']\n",
    "df_scores = pd.DataFrame(scores, columns = columns)"
   ]
  },
  {
   "cell_type": "code",
   "execution_count": 144,
   "id": "ed8b08fd",
   "metadata": {},
   "outputs": [
    {
     "data": {
      "text/html": [
       "<div>\n",
       "<style scoped>\n",
       "    .dataframe tbody tr th:only-of-type {\n",
       "        vertical-align: middle;\n",
       "    }\n",
       "\n",
       "    .dataframe tbody tr th {\n",
       "        vertical-align: top;\n",
       "    }\n",
       "\n",
       "    .dataframe thead th {\n",
       "        text-align: right;\n",
       "    }\n",
       "</style>\n",
       "<table border=\"1\" class=\"dataframe\">\n",
       "  <thead>\n",
       "    <tr style=\"text-align: right;\">\n",
       "      <th></th>\n",
       "      <th>threshold</th>\n",
       "      <th>r_thres</th>\n",
       "      <th>p_thres</th>\n",
       "    </tr>\n",
       "  </thead>\n",
       "  <tbody>\n",
       "    <tr>\n",
       "      <th>0</th>\n",
       "      <td>0.00</td>\n",
       "      <td>1.000</td>\n",
       "      <td>0.799</td>\n",
       "    </tr>\n",
       "    <tr>\n",
       "      <th>1</th>\n",
       "      <td>0.01</td>\n",
       "      <td>1.000</td>\n",
       "      <td>0.861</td>\n",
       "    </tr>\n",
       "    <tr>\n",
       "      <th>2</th>\n",
       "      <td>0.02</td>\n",
       "      <td>1.000</td>\n",
       "      <td>0.872</td>\n",
       "    </tr>\n",
       "    <tr>\n",
       "      <th>3</th>\n",
       "      <td>0.03</td>\n",
       "      <td>1.000</td>\n",
       "      <td>0.898</td>\n",
       "    </tr>\n",
       "    <tr>\n",
       "      <th>4</th>\n",
       "      <td>0.04</td>\n",
       "      <td>1.000</td>\n",
       "      <td>0.906</td>\n",
       "    </tr>\n",
       "    <tr>\n",
       "      <th>...</th>\n",
       "      <td>...</td>\n",
       "      <td>...</td>\n",
       "      <td>...</td>\n",
       "    </tr>\n",
       "    <tr>\n",
       "      <th>96</th>\n",
       "      <td>0.96</td>\n",
       "      <td>0.967</td>\n",
       "      <td>1.000</td>\n",
       "    </tr>\n",
       "    <tr>\n",
       "      <th>97</th>\n",
       "      <td>0.97</td>\n",
       "      <td>0.962</td>\n",
       "      <td>1.000</td>\n",
       "    </tr>\n",
       "    <tr>\n",
       "      <th>98</th>\n",
       "      <td>0.98</td>\n",
       "      <td>0.962</td>\n",
       "      <td>1.000</td>\n",
       "    </tr>\n",
       "    <tr>\n",
       "      <th>99</th>\n",
       "      <td>0.99</td>\n",
       "      <td>0.957</td>\n",
       "      <td>1.000</td>\n",
       "    </tr>\n",
       "    <tr>\n",
       "      <th>100</th>\n",
       "      <td>1.00</td>\n",
       "      <td>0.848</td>\n",
       "      <td>1.000</td>\n",
       "    </tr>\n",
       "  </tbody>\n",
       "</table>\n",
       "<p>101 rows × 3 columns</p>\n",
       "</div>"
      ],
      "text/plain": [
       "     threshold  r_thres  p_thres\n",
       "0         0.00    1.000    0.799\n",
       "1         0.01    1.000    0.861\n",
       "2         0.02    1.000    0.872\n",
       "3         0.03    1.000    0.898\n",
       "4         0.04    1.000    0.906\n",
       "..         ...      ...      ...\n",
       "96        0.96    0.967    1.000\n",
       "97        0.97    0.962    1.000\n",
       "98        0.98    0.962    1.000\n",
       "99        0.99    0.957    1.000\n",
       "100       1.00    0.848    1.000\n",
       "\n",
       "[101 rows x 3 columns]"
      ]
     },
     "execution_count": 144,
     "metadata": {},
     "output_type": "execute_result"
    }
   ],
   "source": [
    "df_scores"
   ]
  },
  {
   "cell_type": "code",
   "execution_count": 145,
   "id": "d2221c23",
   "metadata": {},
   "outputs": [
    {
     "data": {
      "text/plain": [
       "<matplotlib.legend.Legend at 0x2213db1e5c0>"
      ]
     },
     "execution_count": 145,
     "metadata": {},
     "output_type": "execute_result"
    },
    {
     "data": {
      "image/png": "[encoded data removed]",
      "text/plain": [
       "<Figure size 640x480 with 1 Axes>"
      ]
     },
     "metadata": {},
     "output_type": "display_data"
    }
   ],
   "source": [
    "plt.plot(df_scores.threshold, df_scores['r_thres'], label='Recall')\n",
    "plt.plot(df_scores.threshold, df_scores['p_thres'], label='Precision')\n",
    "\n",
    "plt.xlabel('Threshold')\n",
    "plt.ylabel('Accuracy')\n",
    "\n",
    "plt.legend()"
   ]
  },
  {
   "cell_type": "markdown",
   "id": "c68f889c",
   "metadata": {},
   "source": [
    "#### Answer: 0.29 rounded to 0.3"
   ]
  },
  {
   "cell_type": "markdown",
   "id": "de40c38c",
   "metadata": {},
   "source": [
    "# Question 4\n",
    "\n",
    "Precision and recall are conflicting - when one grows, the other goes down. That's why they are often combined into the F1 score - a metrics that takes into account both\n",
    "\n",
    "This is the formula for computing F1:\n",
    "\n",
    "F1 = 2 * P * R / (P + R)\n",
    "\n",
    "Where P is precision and R is recall.\n",
    "\n",
    "Let's compute F1 for all thresholds from 0.0 to 1.0 with increment 0.01\n",
    "\n",
    "At which threshold F1 is maximal?\n",
    "\n",
    "- 0.1\n",
    "- 0.4\n",
    "- 0.6\n",
    "- 0.7"
   ]
  },
  {
   "cell_type": "code",
   "execution_count": 156,
   "id": "3158468f",
   "metadata": {},
   "outputs": [],
   "source": [
    "scores = []\n",
    "\n",
    "thresholds = np.linspace(0, 1, 101)\n",
    "\n",
    "for t in thresholds:\n",
    "    actual_positive = (y_val == 1)\n",
    "    actual_negative = (y_val == 0)\n",
    "    \n",
    "    predict_positive = (y_pred >= t)\n",
    "    predict_negative = (y_pred < t)\n",
    "    \n",
    "    tp = (predict_positive & actual_positive).sum()\n",
    "    tn = (predict_negative & actual_negative).sum()\n",
    "    \n",
    "    fp = (predict_positive & actual_negative).sum()\n",
    "    fn = (predict_negative & actual_positive).sum()\n",
    "    \n",
    "    r_thres = tp / (tp + fn)\n",
    "    p_thres = tp / (fp + tp)\n",
    "    f1 = (2 * p_thres * r_thres) / (p_thres + r_thres)\n",
    "    \n",
    "    scores.append((t, round(r_thres, 3), round(p_thres, 3), round(f1, 5)))"
   ]
  },
  {
   "cell_type": "code",
   "execution_count": 157,
   "id": "2c46d345",
   "metadata": {},
   "outputs": [
    {
     "data": {
      "text/plain": [
       "[(0.0, 1.0, 0.799, 0.88842),\n",
       " (0.01, 1.0, 0.861, 0.92544),\n",
       " (0.02, 1.0, 0.872, 0.93157),\n",
       " (0.03, 1.0, 0.898, 0.94619),\n",
       " (0.04, 1.0, 0.906, 0.95045),\n",
       " (0.05, 1.0, 0.906, 0.95045),\n",
       " (0.06, 1.0, 0.917, 0.95692),\n",
       " (0.07, 1.0, 0.917, 0.95692),\n",
       " (0.08, 0.995, 0.921, 0.95672),\n",
       " (0.09, 0.995, 0.921, 0.95672),\n",
       " (0.1, 0.995, 0.925, 0.9589),\n",
       " (0.11, 0.995, 0.925, 0.9589),\n",
       " (0.12, 0.995, 0.925, 0.9589),\n",
       " (0.13, 0.995, 0.95, 0.97222),\n",
       " (0.14, 0.986, 0.959, 0.97196),\n",
       " (0.15, 0.986, 0.959, 0.97196),\n",
       " (0.16, 0.986, 0.967, 0.97653),\n",
       " (0.17, 0.986, 0.967, 0.97653),\n",
       " (0.18, 0.981, 0.972, 0.97642),\n",
       " (0.19, 0.981, 0.976, 0.97872),\n",
       " (0.2, 0.981, 0.976, 0.97872),\n",
       " (0.21, 0.981, 0.976, 0.97872),\n",
       " (0.22, 0.981, 0.976, 0.97872),\n",
       " (0.23, 0.981, 0.976, 0.97872),\n",
       " (0.24, 0.976, 0.976, 0.9763),\n",
       " (0.25, 0.976, 0.976, 0.9763),\n",
       " (0.26, 0.976, 0.976, 0.9763),\n",
       " (0.27, 0.976, 0.976, 0.9763),\n",
       " (0.28, 0.976, 0.976, 0.9763),\n",
       " (0.29, 0.976, 0.976, 0.9763),\n",
       " (0.3, 0.972, 0.976, 0.97387),\n",
       " (0.31, 0.972, 0.981, 0.97619),\n",
       " (0.32, 0.972, 0.981, 0.97619),\n",
       " (0.33, 0.972, 0.981, 0.97619),\n",
       " (0.34, 0.972, 0.99, 0.98086),\n",
       " (0.35000000000000003, 0.972, 0.995, 0.98321),\n",
       " (0.36, 0.972, 0.995, 0.98321),\n",
       " (0.37, 0.972, 0.995, 0.98321),\n",
       " (0.38, 0.972, 0.995, 0.98321),\n",
       " (0.39, 0.972, 0.995, 0.98321),\n",
       " (0.4, 0.972, 0.995, 0.98321),\n",
       " (0.41000000000000003, 0.972, 0.995, 0.98321),\n",
       " (0.42, 0.967, 0.995, 0.98077),\n",
       " (0.43, 0.967, 0.995, 0.98077),\n",
       " (0.44, 0.967, 0.995, 0.98077),\n",
       " (0.45, 0.967, 0.995, 0.98077),\n",
       " (0.46, 0.967, 0.995, 0.98077),\n",
       " (0.47000000000000003, 0.967, 0.995, 0.98077),\n",
       " (0.48, 0.967, 0.995, 0.98077),\n",
       " (0.49, 0.967, 0.995, 0.98077),\n",
       " (0.5, 0.967, 0.995, 0.98077),\n",
       " (0.51, 0.967, 0.995, 0.98077),\n",
       " (0.52, 0.967, 0.995, 0.98077),\n",
       " (0.53, 0.967, 0.995, 0.98077),\n",
       " (0.54, 0.967, 0.995, 0.98077),\n",
       " (0.55, 0.967, 0.995, 0.98077),\n",
       " (0.56, 0.967, 0.995, 0.98077),\n",
       " (0.5700000000000001, 0.967, 0.995, 0.98077),\n",
       " (0.58, 0.967, 0.995, 0.98077),\n",
       " (0.59, 0.967, 0.995, 0.98077),\n",
       " (0.6, 0.967, 0.995, 0.98077),\n",
       " (0.61, 0.967, 0.995, 0.98077),\n",
       " (0.62, 0.967, 0.995, 0.98077),\n",
       " (0.63, 0.967, 0.995, 0.98077),\n",
       " (0.64, 0.967, 0.995, 0.98077),\n",
       " (0.65, 0.967, 0.995, 0.98077),\n",
       " (0.66, 0.967, 0.995, 0.98077),\n",
       " (0.67, 0.967, 0.995, 0.98077),\n",
       " (0.68, 0.967, 0.995, 0.98077),\n",
       " (0.6900000000000001, 0.967, 0.995, 0.98077),\n",
       " (0.7000000000000001, 0.967, 0.995, 0.98077),\n",
       " (0.71, 0.967, 0.995, 0.98077),\n",
       " (0.72, 0.967, 0.995, 0.98077),\n",
       " (0.73, 0.967, 0.995, 0.98077),\n",
       " (0.74, 0.967, 0.995, 0.98077),\n",
       " (0.75, 0.967, 0.995, 0.98077),\n",
       " (0.76, 0.967, 0.995, 0.98077),\n",
       " (0.77, 0.967, 0.995, 0.98077),\n",
       " (0.78, 0.967, 0.995, 0.98077),\n",
       " (0.79, 0.967, 0.995, 0.98077),\n",
       " (0.8, 0.967, 0.995, 0.98077),\n",
       " (0.81, 0.967, 0.995, 0.98077),\n",
       " (0.8200000000000001, 0.967, 0.995, 0.98077),\n",
       " (0.8300000000000001, 0.967, 0.995, 0.98077),\n",
       " (0.84, 0.967, 0.995, 0.98077),\n",
       " (0.85, 0.967, 1.0, 0.98313),\n",
       " (0.86, 0.967, 1.0, 0.98313),\n",
       " (0.87, 0.967, 1.0, 0.98313),\n",
       " (0.88, 0.967, 1.0, 0.98313),\n",
       " (0.89, 0.967, 1.0, 0.98313),\n",
       " (0.9, 0.967, 1.0, 0.98313),\n",
       " (0.91, 0.967, 1.0, 0.98313),\n",
       " (0.92, 0.967, 1.0, 0.98313),\n",
       " (0.93, 0.967, 1.0, 0.98313),\n",
       " (0.9400000000000001, 0.967, 1.0, 0.98313),\n",
       " (0.9500000000000001, 0.967, 1.0, 0.98313),\n",
       " (0.96, 0.967, 1.0, 0.98313),\n",
       " (0.97, 0.962, 1.0, 0.98068),\n",
       " (0.98, 0.962, 1.0, 0.98068),\n",
       " (0.99, 0.957, 1.0, 0.97821),\n",
       " (1.0, 0.848, 1.0, 0.91795)]"
      ]
     },
     "execution_count": 157,
     "metadata": {},
     "output_type": "execute_result"
    }
   ],
   "source": [
    "scores"
   ]
  },
  {
   "cell_type": "code",
   "execution_count": 158,
   "id": "1d85e311",
   "metadata": {},
   "outputs": [],
   "source": [
    "df_scores = pd.DataFrame(scores)"
   ]
  },
  {
   "cell_type": "code",
   "execution_count": 159,
   "id": "84580870",
   "metadata": {},
   "outputs": [],
   "source": [
    "columns = ['threshold', 'r_thres', 'p_thres', 'f1']\n",
    "df_scores = pd.DataFrame(scores, columns = columns)"
   ]
  },
  {
   "cell_type": "code",
   "execution_count": 160,
   "id": "c1e7b06d",
   "metadata": {},
   "outputs": [
    {
     "data": {
      "text/plain": [
       "<matplotlib.legend.Legend at 0x2213d5d05e0>"
      ]
     },
     "execution_count": 160,
     "metadata": {},
     "output_type": "execute_result"
    },
    {
     "data": {
      "image/png": "[encoded data removed]",
      "text/plain": [
       "<Figure size 640x480 with 1 Axes>"
      ]
     },
     "metadata": {},
     "output_type": "display_data"
    }
   ],
   "source": [
    "plt.plot(df_scores.threshold, df_scores['r_thres'], label='Recall')\n",
    "plt.plot(df_scores.threshold, df_scores['p_thres'], label='Precision')\n",
    "plt.plot(df_scores.threshold, df_scores['f1'], label='F1')\n",
    "\n",
    "plt.xlabel('Threshold')\n",
    "plt.ylabel('Accuracy')\n",
    "\n",
    "plt.legend()"
   ]
  },
  {
   "cell_type": "markdown",
   "id": "a7fd686d",
   "metadata": {},
   "source": [
    "#### Answer: 0.4"
   ]
  },
  {
   "cell_type": "markdown",
   "id": "ddcea552",
   "metadata": {},
   "source": [
    "# Question 5\n",
    "\n",
    "Use the `KFold` class from Scikit-Learn to evaluate our model on 5 different folds:\n",
    "\n",
    "`KFold(n_splits=5, shuffle=True, random_state=1)`\n",
    "\n",
    "- Iterate over different folds of `df_full_train`\n",
    "- Split the data into train and validation\n",
    "- Train the model on train with these parameters: `LogisticRegression(solver='liblinear', C=1.0, max_iter=1000)`\n",
    "- Use AUC to evaluate the model on validation\n",
    "\n",
    "How large is standard devidation of the AUC scores across different folds?\n",
    "\n",
    "- 0.003\n",
    "- 0.014\n",
    "- 0.09\n",
    "- 0.24\n"
   ]
  },
  {
   "cell_type": "code",
   "execution_count": 161,
   "id": "486bbaba",
   "metadata": {},
   "outputs": [],
   "source": [
    "def train(df_train, y_train, C=1.0):\n",
    "    dicts = df_train[categorical + numerical].to_dict(orient='records')\n",
    "    \n",
    "    dv = DictVectorizer(sparse=False)\n",
    "    X_train = dv.fit_transform(dicts)\n",
    "    \n",
    "    model = LogisticRegression(solver='liblinear', C=1.0, max_iter=1000)\n",
    "    model.fit(X_train, y_train)\n",
    "    \n",
    "    return dv, model, auc"
   ]
  },
  {
   "cell_type": "code",
   "execution_count": 162,
   "id": "51260ee1",
   "metadata": {},
   "outputs": [],
   "source": [
    "dv, model = train(df_train, y_train, C=1.0)"
   ]
  },
  {
   "cell_type": "code",
   "execution_count": 163,
   "id": "84d904b5",
   "metadata": {},
   "outputs": [],
   "source": [
    "def predict(df, dv, model):\n",
    "    dicts = df[categorical + numerical].to_dict(orient='records')\n",
    "    \n",
    "    X = dv.transform(dicts)\n",
    "    y_pred = model.predict_proba(X)[:, 1]\n",
    "    \n",
    "    return y_pred"
   ]
  },
  {
   "cell_type": "code",
   "execution_count": 164,
   "id": "48e63a89",
   "metadata": {},
   "outputs": [],
   "source": [
    "y_pred = predict(df_val, dv, model)"
   ]
  },
  {
   "cell_type": "code",
   "execution_count": 183,
   "id": "1a538f14",
   "metadata": {},
   "outputs": [],
   "source": [
    "from sklearn.model_selection import KFold"
   ]
  },
  {
   "cell_type": "code",
   "execution_count": 184,
   "id": "e65e0177",
   "metadata": {},
   "outputs": [],
   "source": [
    "kfold = KFold(n_splits=5, shuffle=True, random_state=1)\n",
    "train_idx, val_idx = next(kfold.split(df_full_train))"
   ]
  },
  {
   "cell_type": "code",
   "execution_count": 185,
   "id": "8f1f208e",
   "metadata": {},
   "outputs": [
    {
     "data": {
      "text/plain": [
       "0.996097337006428"
      ]
     },
     "execution_count": 185,
     "metadata": {},
     "output_type": "execute_result"
    }
   ],
   "source": [
    "dv, model = train(df_full_train, df_full_train.card.values, C=1.0)\n",
    "y_pred = predict(df_test, dv, model)\n",
    "\n",
    "auc = roc_auc_score(y_test, y_pred)\n",
    "auc"
   ]
  },
  {
   "cell_type": "code",
   "execution_count": 176,
   "id": "2e857fdd",
   "metadata": {},
   "outputs": [],
   "source": [
    "from tqdm.auto import tqdm"
   ]
  },
  {
   "cell_type": "markdown",
   "id": "74739ef3",
   "metadata": {},
   "source": [
    "# Question 6\n",
    "\n",
    "Now let's use 5-Fold cross-validation to find the best parameter C\n",
    "\n",
    "- Iterate over the following C values: `[0.01, 0.1, 1, 10]`\n",
    "- Initialize `KFold` with the same parameters as previously\n",
    "- Use these parametes for the model: `LogisticRegression(solver='liblinear', C=C, max_iter=1000)`\n",
    "- Compute the mean score as well as the std (round the mean and std to 3 decimal digits)\n",
    "\n",
    "Which C leads to the best mean score?\n",
    "\n",
    "- 0.01\n",
    "- 0.1\n",
    "- 1\n",
    "- 10\n",
    "\n",
    "If you have ties, select the score with the lowest std. If you still have ties, select the smallest C"
   ]
  },
  {
   "cell_type": "code",
   "execution_count": 181,
   "id": "c3ec8442",
   "metadata": {},
   "outputs": [
    {
     "data": {
      "application/vnd.jupyter.widget-view+json": {
       "model_id": "cc905259b5e14b9e89252b6150f90acc",
       "version_major": 2,
       "version_minor": 0
      },
      "text/plain": [
       "  0%|          | 0/4 [00:00<?, ?it/s]"
      ]
     },
     "metadata": {},
     "output_type": "display_data"
    },
    {
     "name": "stdout",
     "output_type": "stream",
     "text": [
      "C=0.01 0.99645 +- 0.00274\n",
      "C=0.1 0.99645 +- 0.00274\n",
      "C=1 0.99645 +- 0.00274\n",
      "C=10 0.99645 +- 0.00274\n"
     ]
    }
   ],
   "source": [
    "n_splits = 5\n",
    "\n",
    "for C in tqdm([0.01, 0.1, 1, 10]):\n",
    "    \n",
    "    kfold = KFold(n_splits=n_splits, shuffle=True, random_state=1)\n",
    "    \n",
    "    scores = []\n",
    "    \n",
    "    for train_idx, val_idx in kfold.split(df_full_train):\n",
    "        df_train = df_full_train.iloc[train_idx]\n",
    "        df_val = df_full_train.iloc[val_idx]\n",
    "\n",
    "        y_train = df_train.card.values\n",
    "        y_val = df_val.card.values\n",
    "\n",
    "        dv, model = train(df_train, y_train, C=C)\n",
    "        y_pred = predict(df_val, dv, model)\n",
    "\n",
    "        auc = roc_auc_score(y_val, y_pred)\n",
    "        scores.append(auc)\n",
    "        \n",
    "    print('C=%s %.5f +- %.5f' % (C, np.mean(scores), np.std(scores)))    "
   ]
  },
  {
   "cell_type": "markdown",
   "id": "5d14d24a",
   "metadata": {},
   "source": [
    "#### Answer: 0.01"
   ]
  },
  {
   "cell_type": "code",
   "execution_count": null,
   "id": "3a26e337",
   "metadata": {},
   "outputs": [],
   "source": []
  },
  {
   "cell_type": "code",
   "execution_count": null,
   "id": "8d34c283",
   "metadata": {},
   "outputs": [],
   "source": []
  }
 ],
 "metadata": {
  "kernelspec": {
   "display_name": "Python 3 (ipykernel)",
   "language": "python",
   "name": "python3"
  },
  "language_info": {
   "codemirror_mode": {
    "name": "ipython",
    "version": 3
   },
   "file_extension": ".py",
   "mimetype": "text/x-python",
   "name": "python",
   "nbconvert_exporter": "python",
   "pygments_lexer": "ipython3",
   "version": "3.10.4"
  }
 },
 "nbformat": 4,
 "nbformat_minor": 5
}
