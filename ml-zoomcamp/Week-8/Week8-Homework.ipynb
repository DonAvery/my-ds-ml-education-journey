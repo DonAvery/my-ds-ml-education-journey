{
 "cells": [
  {
   "cell_type": "markdown",
   "id": "fae59de9",
   "metadata": {},
   "source": [
    "# Week 8 Homework\n",
    "\n",
    "Dataset\n",
    "In this homework, we'll build a model for predicting if we have an image of a dino or a dragon. For this, we will use the \"Dino or Dragon?\" dataset that can be downloaded from <a href=\"https://www.kaggle.com/datasets/agrigorev/dino-or-dragon\">Kaggle</a>.\n",
    "\n",
    "In the lectures we saw how to use a pre-trained neural network. In the homework, we'll train a much smaller model from scratch.\n",
    "\n",
    "Note: You will need an environment with a GPU for this homework. We recommend to use <a href=\"https://saturncloud.io/?utm_source=Youtube+&utm_medium=YouTube&utm_campaign=AlexeyGMLZoomCamp&utm_term=AlexeyGMLZoomCamp\">Saturn Cloud</a>. You can also use a computer without a GPU (e.g. your laptop), but it will be slower.\n",
    "\n",
    "Data Preparation\n",
    "The dataset contains around 1900 images of dinos and around 1900 images of dragons.\n",
    "\n",
    "The dataset contains separate folders for training and validation.\n",
    "\n",
    "Model\n",
    "For this homework we will use Convolutional Neural Network (CNN). Like in the lectures, we'll use Keras.\n",
    "\n",
    "You need to develop the model with following structure:\n",
    "\n",
    "- The shape for input should be `(150, 150, 3)`\n",
    "- Next, create a convolutional layer (<a href=\"https://keras.io/api/layers/convolution_layers/convolution2d/\">Conv2D</a>):\n",
    "    - Use 32 filters\n",
    "    - Kernel size should be `(3, 3)` (that's the size of the filter)\n",
    "    - Use `'relu'` as activation\n",
    "- Reduce the size of the feature map with max pooling (<a href=\"https://keras.io/api/layers/pooling_layers/max_pooling2d/\">MaxPooling2D</a>)\n",
    "    - Set the pooling size to `(2, 2)`\n",
    "- Turn the multi-dimensional result into vectors using a <a href=\"https://keras.io/api/layers/reshaping_layers/flatten/\">Flatten</a> layer\n",
    "- Next, add a `Dense` layer with 64 neurons and `'relu'` activation\n",
    "- Finally, create the `Dense` layer with 1 neuron - this will be the output\n",
    "    - The output layer should have an activation - use the appropriate activation for the binary classification case\n",
    "As optimizer use <a href=\"https://keras.io/api/optimizers/sgd/\">SGD</a> with the following parameters:\n",
    "\n",
    "- `SGD(lr=0.002, momentum=0.8)`\n",
    "For clarification about kernel size and max pooling, check <a href=\"https://www.youtube.com/watch?v=1WRgdBTUaAc\">Office Hours</a>."
   ]
  },
  {
   "cell_type": "markdown",
   "id": "b6accb31",
   "metadata": {},
   "source": [
    "## Question 1\n",
    "Since we have a binary classification problem, what is the best loss function for us?\n",
    "\n",
    "- `binary crossentropy`\n",
    "- `focal loss`\n",
    "- `mean squared error`\n",
    "- `categorical crossentropy`\n",
    "\n",
    "Note: since we specify an activation for the output layer, we don't need to set `from_logits=True`"
   ]
  },
  {
   "cell_type": "markdown",
   "id": "882b4b10",
   "metadata": {},
   "source": [
    "#### Answer:  binary crossentropy"
   ]
  },
  {
   "cell_type": "code",
   "execution_count": 97,
   "id": "6b4adff6",
   "metadata": {},
   "outputs": [],
   "source": [
    "import tensorflow as tf\n",
    "from tensorflow import keras\n",
    "from tensorflow.keras.preprocessing.image import load_img\n",
    "\n",
    "from tensorflow.keras.preprocessing.image import ImageDataGenerator\n",
    "from tensorflow.keras.layers import Conv2D\n",
    "from tensorflow.keras.optimizers import SGD\n",
    "\n",
    "from tensorflow.keras import layers\n",
    "from tensorflow.keras import models\n",
    "from tensorflow.keras import optimizers\n",
    "\n",
    "import numpy as np\n",
    "import matplotlib.pyplot as plt\n",
    "\n",
    "%matplotlib inline"
   ]
  },
  {
   "cell_type": "code",
   "execution_count": 98,
   "id": "567e1895",
   "metadata": {},
   "outputs": [
    {
     "name": "stdout",
     "output_type": "stream",
     "text": [
      "Found 1594 images belonging to 2 classes.\n",
      "Found 394 images belonging to 2 classes.\n"
     ]
    }
   ],
   "source": [
    "input_size = 150\n",
    "\n",
    "train_gen = ImageDataGenerator(rescale=1./255)\n",
    "\n",
    "train_ds = train_gen.flow_from_directory(\n",
    "    './train',\n",
    "    target_size=(input_size, input_size),\n",
    "    batch_size=20,\n",
    "    shuffle=True,\n",
    "    class_mode='binary'\n",
    ")\n",
    "\n",
    "\n",
    "test_gen = ImageDataGenerator(rescale=1./255)\n",
    "\n",
    "test_ds = test_gen.flow_from_directory(\n",
    "    './test',\n",
    "    target_size=(input_size, input_size),\n",
    "    batch_size=20,\n",
    "    shuffle=True,\n",
    "    class_mode='binary'\n",
    ")"
   ]
  },
  {
   "cell_type": "code",
   "execution_count": 99,
   "id": "cfe3f019",
   "metadata": {},
   "outputs": [],
   "source": [
    "model = models.Sequential()\n",
    "\n",
    "model.add(layers.Conv2D(32, (3, 3), activation='relu',\n",
    "                        input_shape=(150, 150, 3)))\n",
    "model.add(layers.MaxPooling2D((2, 2)))\n",
    "model.add(layers.Flatten())\n",
    "model.add(layers.Dense(64, activation='relu'))\n",
    "model.add(layers.Dense(1, activation='sigmoid'))"
   ]
  },
  {
   "cell_type": "code",
   "execution_count": 100,
   "id": "eb01bf13",
   "metadata": {},
   "outputs": [],
   "source": [
    "model.compile(loss='binary_crossentropy',\n",
    "             optimizer=optimizers.SGD(learning_rate=0.002, momentum=0.8),\n",
    "             metrics=['acc'])"
   ]
  },
  {
   "cell_type": "code",
   "execution_count": 101,
   "id": "31ddccb4",
   "metadata": {},
   "outputs": [
    {
     "name": "stdout",
     "output_type": "stream",
     "text": [
      "Epoch 1/10\n",
      "80/80 [==============================] - 7s 86ms/step - loss: 0.6965 - acc: 0.5332 - val_loss: 0.6685 - val_acc: 0.5609\n",
      "Epoch 2/10\n",
      "80/80 [==============================] - 7s 85ms/step - loss: 0.6427 - acc: 0.6870 - val_loss: 0.5865 - val_acc: 0.7716\n",
      "Epoch 3/10\n",
      "80/80 [==============================] - 7s 85ms/step - loss: 0.5356 - acc: 0.7748 - val_loss: 0.5112 - val_acc: 0.7487\n",
      "Epoch 4/10\n",
      "80/80 [==============================] - 7s 82ms/step - loss: 0.4700 - acc: 0.7955 - val_loss: 0.4138 - val_acc: 0.8274\n",
      "Epoch 5/10\n",
      "80/80 [==============================] - 7s 83ms/step - loss: 0.3922 - acc: 0.8369 - val_loss: 0.3771 - val_acc: 0.8426\n",
      "Epoch 6/10\n",
      "80/80 [==============================] - 7s 83ms/step - loss: 0.3451 - acc: 0.8614 - val_loss: 0.3540 - val_acc: 0.8426\n",
      "Epoch 7/10\n",
      "80/80 [==============================] - 7s 82ms/step - loss: 0.3156 - acc: 0.8808 - val_loss: 0.3294 - val_acc: 0.8706\n",
      "Epoch 8/10\n",
      "80/80 [==============================] - 7s 88ms/step - loss: 0.2760 - acc: 0.8864 - val_loss: 0.3491 - val_acc: 0.8401\n",
      "Epoch 9/10\n",
      "80/80 [==============================] - 7s 82ms/step - loss: 0.2660 - acc: 0.8996 - val_loss: 0.3030 - val_acc: 0.8832\n",
      "Epoch 10/10\n",
      "80/80 [==============================] - 7s 83ms/step - loss: 0.2388 - acc: 0.9166 - val_loss: 0.3416 - val_acc: 0.8452\n"
     ]
    }
   ],
   "source": [
    "history = model.fit(train_ds, epochs=10, validation_data=test_ds)"
   ]
  },
  {
   "cell_type": "markdown",
   "id": "8f062575",
   "metadata": {},
   "source": [
    "## Question 2\n",
    "What's the total number of parameters of the model? You can use the summary method for that.\n",
    "\n",
    "- 9215873\n",
    "- 11215873\n",
    "- 14215873\n",
    "- 19215873\n",
    "\n",
    "Generators and Training\n",
    "\n",
    "For the next two questions, use the following data generator for both train and validation:\n",
    "\n",
    "> ImageDataGenerator(rescale=1./255)\n",
    "\n",
    "- We don't need to do any additional pre-processing for the images.\n",
    "- When reading the data from train/val directories, check the `class_mode` parameter. Which value should it be for a binary classification problem?\n",
    "- Use `batch_size=20`\n",
    "- Use `shuffle=True` for both training and validation\n",
    "For training use `.fit()` with the following params:\n",
    "\n",
    "```\n",
    "model.fit(\n",
    "    train_generator,\n",
    "    epochs=10,\n",
    "    validation_data=validation_generator\n",
    ")\n",
    "```"
   ]
  },
  {
   "cell_type": "code",
   "execution_count": 102,
   "id": "b8529382",
   "metadata": {},
   "outputs": [
    {
     "name": "stdout",
     "output_type": "stream",
     "text": [
      "Model: \"sequential_6\"\n",
      "_________________________________________________________________\n",
      "Layer (type)                 Output Shape              Param #   \n",
      "=================================================================\n",
      "conv2d_20 (Conv2D)           (None, 148, 148, 32)      896       \n",
      "_________________________________________________________________\n",
      "max_pooling2d_19 (MaxPooling (None, 74, 74, 32)        0         \n",
      "_________________________________________________________________\n",
      "flatten_18 (Flatten)         (None, 175232)            0         \n",
      "_________________________________________________________________\n",
      "dense_34 (Dense)             (None, 64)                11214912  \n",
      "_________________________________________________________________\n",
      "dense_35 (Dense)             (None, 1)                 65        \n",
      "=================================================================\n",
      "Total params: 11,215,873\n",
      "Trainable params: 11,215,873\n",
      "Non-trainable params: 0\n",
      "_________________________________________________________________\n"
     ]
    }
   ],
   "source": [
    "model.summary()"
   ]
  },
  {
   "cell_type": "markdown",
   "id": "df82905f",
   "metadata": {},
   "source": [
    "#### Answer: Total params: 11,215,873"
   ]
  },
  {
   "cell_type": "markdown",
   "id": "8a84fd6e",
   "metadata": {},
   "source": [
    "## Question 3\n",
    "What is the median of training accuracy for all the epochs for this model?\n",
    "\n",
    "- 0.40\n",
    "- 0.60\n",
    "- 0.90\n",
    "- 0.20"
   ]
  },
  {
   "cell_type": "code",
   "execution_count": 103,
   "id": "99f978c3",
   "metadata": {},
   "outputs": [],
   "source": [
    "import statistics as stats"
   ]
  },
  {
   "cell_type": "code",
   "execution_count": 107,
   "id": "1b92014c",
   "metadata": {},
   "outputs": [
    {
     "data": {
      "text/plain": [
       "0.85"
      ]
     },
     "execution_count": 107,
     "metadata": {},
     "output_type": "execute_result"
    }
   ],
   "source": [
    "hist = history.history\n",
    "round(stats.median(hist['acc']),2)"
   ]
  },
  {
   "cell_type": "markdown",
   "id": "74308ac2",
   "metadata": {},
   "source": [
    "#### Answer: 0.90"
   ]
  },
  {
   "cell_type": "markdown",
   "id": "6a081974",
   "metadata": {},
   "source": [
    "## Question 4\n",
    "What is the standard deviation of training loss for all the epochs for this model?\n",
    "\n",
    "- 0.11\n",
    "- 0.66\n",
    "- 0.99\n",
    "- 0.33"
   ]
  },
  {
   "cell_type": "code",
   "execution_count": 105,
   "id": "246139ff",
   "metadata": {},
   "outputs": [
    {
     "data": {
      "text/plain": [
       "0.11865500010732909"
      ]
     },
     "execution_count": 105,
     "metadata": {},
     "output_type": "execute_result"
    }
   ],
   "source": [
    "stats.stdev(hist['acc'])"
   ]
  },
  {
   "cell_type": "markdown",
   "id": "366c6a09",
   "metadata": {},
   "source": [
    "#### Answer: 0.11"
   ]
  },
  {
   "cell_type": "markdown",
   "id": "82cc3f78",
   "metadata": {},
   "source": [
    "# Data Augmentation\n",
    "For the next two questions, we'll generate more data using data augmentations.\n",
    "\n",
    "Add the following augmentations to your training data generator:\n",
    "\n",
    "- `rotation_range=40,`\n",
    "- `width_shift_range=0.2,`\n",
    "- `height_shift_range=0.2,`\n",
    "- `shear_range=0.2,`\n",
    "- `zoom_range=0.2,`\n",
    "- `horizontal_flip=True,`\n",
    "- `fill_mode='nearest'`"
   ]
  },
  {
   "cell_type": "code",
   "execution_count": 108,
   "id": "e486d20d",
   "metadata": {},
   "outputs": [],
   "source": [
    "datagen = ImageDataGenerator(\n",
    "    rotation_range=40,\n",
    "    width_shift_range=0.2,\n",
    "    height_shift_range=0.2,\n",
    "    shear_range=0.2,\n",
    "    zoom_range=0.2,\n",
    "    horizontal_flip=True,\n",
    "    fill_mode='nearest')"
   ]
  },
  {
   "cell_type": "code",
   "execution_count": 110,
   "id": "aa12d192",
   "metadata": {},
   "outputs": [
    {
     "name": "stdout",
     "output_type": "stream",
     "text": [
      "Epoch 1/10\n",
      "80/80 [==============================] - 7s 88ms/step - loss: 0.2100 - acc: 0.9253 - val_loss: 0.3146 - val_acc: 0.8655\n",
      "Epoch 2/10\n",
      "80/80 [==============================] - 7s 85ms/step - loss: 0.1866 - acc: 0.9354 - val_loss: 0.2942 - val_acc: 0.8807\n",
      "Epoch 3/10\n",
      "80/80 [==============================] - 7s 86ms/step - loss: 0.1576 - acc: 0.9492 - val_loss: 0.2886 - val_acc: 0.8832\n",
      "Epoch 4/10\n",
      "80/80 [==============================] - 7s 84ms/step - loss: 0.1423 - acc: 0.9555 - val_loss: 0.3082 - val_acc: 0.8706\n",
      "Epoch 5/10\n",
      "80/80 [==============================] - 7s 83ms/step - loss: 0.1368 - acc: 0.9517 - val_loss: 0.2861 - val_acc: 0.8706\n",
      "Epoch 6/10\n",
      "80/80 [==============================] - 7s 83ms/step - loss: 0.1057 - acc: 0.9705 - val_loss: 0.3048 - val_acc: 0.8756\n",
      "Epoch 7/10\n",
      "80/80 [==============================] - 7s 82ms/step - loss: 0.0813 - acc: 0.9831 - val_loss: 0.3010 - val_acc: 0.8706\n",
      "Epoch 8/10\n",
      "80/80 [==============================] - 7s 85ms/step - loss: 0.0719 - acc: 0.9849 - val_loss: 0.2882 - val_acc: 0.8782\n",
      "Epoch 9/10\n",
      "80/80 [==============================] - 7s 86ms/step - loss: 0.0594 - acc: 0.9881 - val_loss: 0.2995 - val_acc: 0.8731\n",
      "Epoch 10/10\n",
      "80/80 [==============================] - 7s 88ms/step - loss: 0.0462 - acc: 0.9950 - val_loss: 0.2987 - val_acc: 0.8756\n"
     ]
    }
   ],
   "source": [
    "history = model.fit(train_ds, epochs=10, validation_data=test_ds)"
   ]
  },
  {
   "cell_type": "code",
   "execution_count": null,
   "id": "9038dc0a",
   "metadata": {},
   "outputs": [],
   "source": []
  },
  {
   "cell_type": "markdown",
   "id": "a7124292",
   "metadata": {},
   "source": [
    "## Question 5\n",
    "Let's train our model for 10 more epochs using the same code as previously. Make sure you don't re-create the model - we want to continue training the model we already started training.\n",
    "\n",
    "What is the mean of validation loss for all the epochs for the model trained with augmentations?\n",
    "\n",
    "- 0.15\n",
    "- 0.77\n",
    "- 0.37\n",
    "- 0.97"
   ]
  },
  {
   "cell_type": "code",
   "execution_count": 112,
   "id": "f8d75d37",
   "metadata": {},
   "outputs": [
    {
     "data": {
      "text/plain": [
       "0.42"
      ]
     },
     "execution_count": 112,
     "metadata": {},
     "output_type": "execute_result"
    }
   ],
   "source": [
    "round(stats.mean(hist['val_loss']),2)"
   ]
  },
  {
   "cell_type": "markdown",
   "id": "69425223",
   "metadata": {},
   "source": [
    "#### Answer: 0.37"
   ]
  },
  {
   "cell_type": "markdown",
   "id": "724e1c33",
   "metadata": {},
   "source": [
    "## Question 6\n",
    "What's the average of validation accuracy for the last 5 epochs (from 6 to 10) for the model trained with augmentations?\n",
    "\n",
    "- 0.84\n",
    "- 0.54\n",
    "- 0.44\n",
    "- 0.24"
   ]
  },
  {
   "cell_type": "code",
   "execution_count": 117,
   "id": "f38eecec",
   "metadata": {},
   "outputs": [
    {
     "data": {
      "text/plain": [
       "0.8597715795040131"
      ]
     },
     "execution_count": 117,
     "metadata": {},
     "output_type": "execute_result"
    }
   ],
   "source": [
    "stats.mean(hist['val_acc'][6:10])"
   ]
  },
  {
   "cell_type": "markdown",
   "id": "7b754f37",
   "metadata": {},
   "source": [
    "#### Answer: 0.84"
   ]
  },
  {
   "cell_type": "markdown",
   "id": "9b1845dd",
   "metadata": {},
   "source": [
    "# Submit the results\n",
    "---\n",
    "- Submit your results here: https://forms.gle/XdH5ztBddvTvxzpT6\n",
    "- You can submit your solution multiple times. In this case, only the last submission will be used\n",
    "- If your answer doesn't match options exactly, select the closest one\n",
    "\n",
    "# Deadline\n",
    "---\n",
    "The deadline for submitting is 21 November 2022, 23:00 CEST.\n",
    "\n",
    "After that, the form will be closed."
   ]
  },
  {
   "cell_type": "markdown",
   "id": "4467dd33",
   "metadata": {},
   "source": []
  },
  {
   "cell_type": "markdown",
   "id": "bfb0d4fd",
   "metadata": {},
   "source": []
  },
  {
   "cell_type": "markdown",
   "id": "17ee8e98",
   "metadata": {},
   "source": []
  },
  {
   "cell_type": "markdown",
   "id": "cfae994c",
   "metadata": {},
   "source": []
  },
  {
   "cell_type": "markdown",
   "id": "44550136",
   "metadata": {},
   "source": []
  },
  {
   "cell_type": "markdown",
   "id": "ce24b44d",
   "metadata": {},
   "source": []
  },
  {
   "cell_type": "markdown",
   "id": "377b32c8",
   "metadata": {},
   "source": []
  },
  {
   "cell_type": "markdown",
   "id": "0a2e1b39",
   "metadata": {},
   "source": []
  }
 ],
 "metadata": {
  "kernelspec": {
   "display_name": "Python 3 (ipykernel)",
   "language": "python",
   "name": "python3"
  },
  "language_info": {
   "codemirror_mode": {
    "name": "ipython",
    "version": 3
   },
   "file_extension": ".py",
   "mimetype": "text/x-python",
   "name": "python",
   "nbconvert_exporter": "python",
   "pygments_lexer": "ipython3",
   "version": "3.9.15"
  }
 },
 "nbformat": 4,
 "nbformat_minor": 5
}
