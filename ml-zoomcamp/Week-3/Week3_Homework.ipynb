{
 "cells": [
  {
   "cell_type": "code",
   "execution_count": 378,
   "id": "91c798d3",
   "metadata": {},
   "outputs": [],
   "source": [
    "import pandas as pd \n",
    "import numpy as np\n",
    "import matplotlib.pyplot as plt\n",
    "import urllib.request"
   ]
  },
  {
   "cell_type": "markdown",
   "id": "7b392ca9",
   "metadata": {},
   "source": [
    "# Dataset\n",
    "\n",
    "In this homework, we will use the California Housing Prices data from Kaggle.\n",
    "\n",
    "Here's a wget-able link:\n",
    "\n",
    "wget https://raw.githubusercontent.com/alexeygrigorev/datasets/master/housing.csv\n",
    "\n",
    "We'll keep working with the `'median_house_value'` variable, and we'll transform it to a classification task.\n",
    "\n",
    "Features\n",
    "\n",
    "For the rest of the homework, you'll need to use only these columns:\n",
    "\n",
    "- `'latitude'`,\n",
    "- `'longitude'`,\n",
    "- `'housing_median_age'`,\n",
    "- `'total_rooms'`,\n",
    "- `'total_bedrooms'`,\n",
    "- `'population'`,\n",
    "- `'households'`,\n",
    "- `'median_income'`,\n",
    "- `'median_house_value'`,\n",
    "- `'ocean_proximity'`\n",
    "\n",
    "Data preparation\n",
    "\n",
    "- Select only the features from above and fill in the missing values with 0.\n",
    "- Create a new column `rooms_per_household` by dividing the column `total_rooms` by the column `households` from dataframe.\n",
    "- Create a new column `bedrooms_per_room` by dividing the column `total_bedrooms` by the column `total_rooms` from dataframe.\n",
    "- Create a new column `population_per_household` by dividing the column `population` by the column `households` from dataframe."
   ]
  },
  {
   "cell_type": "code",
   "execution_count": 379,
   "id": "1bc75473",
   "metadata": {},
   "outputs": [
    {
     "data": {
      "text/plain": [
       "('housing.csv', <http.client.HTTPMessage at 0x1bb8acba7a0>)"
      ]
     },
     "execution_count": 379,
     "metadata": {},
     "output_type": "execute_result"
    }
   ],
   "source": [
    "url ='https://raw.githubusercontent.com/alexeygrigorev/datasets/master/housing.csv'\n",
    "\n",
    "filename = 'housing.csv'\n",
    "\n",
    "urllib.request.urlretrieve(url, filename)"
   ]
  },
  {
   "cell_type": "code",
   "execution_count": 380,
   "id": "447e8861",
   "metadata": {},
   "outputs": [],
   "source": [
    "df = pd.read_csv('housing.csv')"
   ]
  },
  {
   "cell_type": "code",
   "execution_count": 381,
   "id": "38afed07",
   "metadata": {
    "scrolled": true
   },
   "outputs": [
    {
     "data": {
      "text/html": [
       "<div>\n",
       "<style scoped>\n",
       "    .dataframe tbody tr th:only-of-type {\n",
       "        vertical-align: middle;\n",
       "    }\n",
       "\n",
       "    .dataframe tbody tr th {\n",
       "        vertical-align: top;\n",
       "    }\n",
       "\n",
       "    .dataframe thead th {\n",
       "        text-align: right;\n",
       "    }\n",
       "</style>\n",
       "<table border=\"1\" class=\"dataframe\">\n",
       "  <thead>\n",
       "    <tr style=\"text-align: right;\">\n",
       "      <th></th>\n",
       "      <th>longitude</th>\n",
       "      <th>latitude</th>\n",
       "      <th>housing_median_age</th>\n",
       "      <th>total_rooms</th>\n",
       "      <th>total_bedrooms</th>\n",
       "      <th>population</th>\n",
       "      <th>households</th>\n",
       "      <th>median_income</th>\n",
       "      <th>median_house_value</th>\n",
       "      <th>ocean_proximity</th>\n",
       "    </tr>\n",
       "  </thead>\n",
       "  <tbody>\n",
       "    <tr>\n",
       "      <th>0</th>\n",
       "      <td>-122.23</td>\n",
       "      <td>37.88</td>\n",
       "      <td>41.0</td>\n",
       "      <td>880.0</td>\n",
       "      <td>129.0</td>\n",
       "      <td>322.0</td>\n",
       "      <td>126.0</td>\n",
       "      <td>8.3252</td>\n",
       "      <td>452600.0</td>\n",
       "      <td>NEAR BAY</td>\n",
       "    </tr>\n",
       "    <tr>\n",
       "      <th>1</th>\n",
       "      <td>-122.22</td>\n",
       "      <td>37.86</td>\n",
       "      <td>21.0</td>\n",
       "      <td>7099.0</td>\n",
       "      <td>1106.0</td>\n",
       "      <td>2401.0</td>\n",
       "      <td>1138.0</td>\n",
       "      <td>8.3014</td>\n",
       "      <td>358500.0</td>\n",
       "      <td>NEAR BAY</td>\n",
       "    </tr>\n",
       "    <tr>\n",
       "      <th>2</th>\n",
       "      <td>-122.24</td>\n",
       "      <td>37.85</td>\n",
       "      <td>52.0</td>\n",
       "      <td>1467.0</td>\n",
       "      <td>190.0</td>\n",
       "      <td>496.0</td>\n",
       "      <td>177.0</td>\n",
       "      <td>7.2574</td>\n",
       "      <td>352100.0</td>\n",
       "      <td>NEAR BAY</td>\n",
       "    </tr>\n",
       "    <tr>\n",
       "      <th>3</th>\n",
       "      <td>-122.25</td>\n",
       "      <td>37.85</td>\n",
       "      <td>52.0</td>\n",
       "      <td>1274.0</td>\n",
       "      <td>235.0</td>\n",
       "      <td>558.0</td>\n",
       "      <td>219.0</td>\n",
       "      <td>5.6431</td>\n",
       "      <td>341300.0</td>\n",
       "      <td>NEAR BAY</td>\n",
       "    </tr>\n",
       "    <tr>\n",
       "      <th>4</th>\n",
       "      <td>-122.25</td>\n",
       "      <td>37.85</td>\n",
       "      <td>52.0</td>\n",
       "      <td>1627.0</td>\n",
       "      <td>280.0</td>\n",
       "      <td>565.0</td>\n",
       "      <td>259.0</td>\n",
       "      <td>3.8462</td>\n",
       "      <td>342200.0</td>\n",
       "      <td>NEAR BAY</td>\n",
       "    </tr>\n",
       "  </tbody>\n",
       "</table>\n",
       "</div>"
      ],
      "text/plain": [
       "   longitude  latitude  housing_median_age  total_rooms  total_bedrooms  \\\n",
       "0    -122.23     37.88                41.0        880.0           129.0   \n",
       "1    -122.22     37.86                21.0       7099.0          1106.0   \n",
       "2    -122.24     37.85                52.0       1467.0           190.0   \n",
       "3    -122.25     37.85                52.0       1274.0           235.0   \n",
       "4    -122.25     37.85                52.0       1627.0           280.0   \n",
       "\n",
       "   population  households  median_income  median_house_value ocean_proximity  \n",
       "0       322.0       126.0         8.3252            452600.0        NEAR BAY  \n",
       "1      2401.0      1138.0         8.3014            358500.0        NEAR BAY  \n",
       "2       496.0       177.0         7.2574            352100.0        NEAR BAY  \n",
       "3       558.0       219.0         5.6431            341300.0        NEAR BAY  \n",
       "4       565.0       259.0         3.8462            342200.0        NEAR BAY  "
      ]
     },
     "execution_count": 381,
     "metadata": {},
     "output_type": "execute_result"
    }
   ],
   "source": [
    "df.head()"
   ]
  },
  {
   "cell_type": "code",
   "execution_count": 382,
   "id": "7ffecf73",
   "metadata": {},
   "outputs": [
    {
     "data": {
      "text/plain": [
       "longitude               0\n",
       "latitude                0\n",
       "housing_median_age      0\n",
       "total_rooms             0\n",
       "total_bedrooms        207\n",
       "population              0\n",
       "households              0\n",
       "median_income           0\n",
       "median_house_value      0\n",
       "ocean_proximity         0\n",
       "dtype: int64"
      ]
     },
     "execution_count": 382,
     "metadata": {},
     "output_type": "execute_result"
    }
   ],
   "source": [
    "df.isnull().sum()"
   ]
  },
  {
   "cell_type": "code",
   "execution_count": 383,
   "id": "890436a8",
   "metadata": {},
   "outputs": [],
   "source": [
    "df.total_bedrooms.fillna(0, inplace=True)"
   ]
  },
  {
   "cell_type": "code",
   "execution_count": 384,
   "id": "78973222",
   "metadata": {},
   "outputs": [],
   "source": [
    "df['rooms_per_household'] = (df['total_rooms'] / df['households'])\n",
    "df['bedrooms_per_room'] = (df['total_bedrooms'] / df['total_rooms'])\n",
    "df['population_per_household'] = (df['population'] / df['households'])"
   ]
  },
  {
   "cell_type": "code",
   "execution_count": 385,
   "id": "cd3941c4",
   "metadata": {},
   "outputs": [
    {
     "data": {
      "text/html": [
       "<div>\n",
       "<style scoped>\n",
       "    .dataframe tbody tr th:only-of-type {\n",
       "        vertical-align: middle;\n",
       "    }\n",
       "\n",
       "    .dataframe tbody tr th {\n",
       "        vertical-align: top;\n",
       "    }\n",
       "\n",
       "    .dataframe thead th {\n",
       "        text-align: right;\n",
       "    }\n",
       "</style>\n",
       "<table border=\"1\" class=\"dataframe\">\n",
       "  <thead>\n",
       "    <tr style=\"text-align: right;\">\n",
       "      <th></th>\n",
       "      <th>longitude</th>\n",
       "      <th>latitude</th>\n",
       "      <th>housing_median_age</th>\n",
       "      <th>total_rooms</th>\n",
       "      <th>total_bedrooms</th>\n",
       "      <th>population</th>\n",
       "      <th>households</th>\n",
       "      <th>median_income</th>\n",
       "      <th>median_house_value</th>\n",
       "      <th>ocean_proximity</th>\n",
       "      <th>rooms_per_household</th>\n",
       "      <th>bedrooms_per_room</th>\n",
       "      <th>population_per_household</th>\n",
       "    </tr>\n",
       "  </thead>\n",
       "  <tbody>\n",
       "    <tr>\n",
       "      <th>0</th>\n",
       "      <td>-122.23</td>\n",
       "      <td>37.88</td>\n",
       "      <td>41.0</td>\n",
       "      <td>880.0</td>\n",
       "      <td>129.0</td>\n",
       "      <td>322.0</td>\n",
       "      <td>126.0</td>\n",
       "      <td>8.3252</td>\n",
       "      <td>452600.0</td>\n",
       "      <td>NEAR BAY</td>\n",
       "      <td>6.984127</td>\n",
       "      <td>0.146591</td>\n",
       "      <td>2.555556</td>\n",
       "    </tr>\n",
       "    <tr>\n",
       "      <th>1</th>\n",
       "      <td>-122.22</td>\n",
       "      <td>37.86</td>\n",
       "      <td>21.0</td>\n",
       "      <td>7099.0</td>\n",
       "      <td>1106.0</td>\n",
       "      <td>2401.0</td>\n",
       "      <td>1138.0</td>\n",
       "      <td>8.3014</td>\n",
       "      <td>358500.0</td>\n",
       "      <td>NEAR BAY</td>\n",
       "      <td>6.238137</td>\n",
       "      <td>0.155797</td>\n",
       "      <td>2.109842</td>\n",
       "    </tr>\n",
       "    <tr>\n",
       "      <th>2</th>\n",
       "      <td>-122.24</td>\n",
       "      <td>37.85</td>\n",
       "      <td>52.0</td>\n",
       "      <td>1467.0</td>\n",
       "      <td>190.0</td>\n",
       "      <td>496.0</td>\n",
       "      <td>177.0</td>\n",
       "      <td>7.2574</td>\n",
       "      <td>352100.0</td>\n",
       "      <td>NEAR BAY</td>\n",
       "      <td>8.288136</td>\n",
       "      <td>0.129516</td>\n",
       "      <td>2.802260</td>\n",
       "    </tr>\n",
       "    <tr>\n",
       "      <th>3</th>\n",
       "      <td>-122.25</td>\n",
       "      <td>37.85</td>\n",
       "      <td>52.0</td>\n",
       "      <td>1274.0</td>\n",
       "      <td>235.0</td>\n",
       "      <td>558.0</td>\n",
       "      <td>219.0</td>\n",
       "      <td>5.6431</td>\n",
       "      <td>341300.0</td>\n",
       "      <td>NEAR BAY</td>\n",
       "      <td>5.817352</td>\n",
       "      <td>0.184458</td>\n",
       "      <td>2.547945</td>\n",
       "    </tr>\n",
       "    <tr>\n",
       "      <th>4</th>\n",
       "      <td>-122.25</td>\n",
       "      <td>37.85</td>\n",
       "      <td>52.0</td>\n",
       "      <td>1627.0</td>\n",
       "      <td>280.0</td>\n",
       "      <td>565.0</td>\n",
       "      <td>259.0</td>\n",
       "      <td>3.8462</td>\n",
       "      <td>342200.0</td>\n",
       "      <td>NEAR BAY</td>\n",
       "      <td>6.281853</td>\n",
       "      <td>0.172096</td>\n",
       "      <td>2.181467</td>\n",
       "    </tr>\n",
       "  </tbody>\n",
       "</table>\n",
       "</div>"
      ],
      "text/plain": [
       "   longitude  latitude  housing_median_age  total_rooms  total_bedrooms  \\\n",
       "0    -122.23     37.88                41.0        880.0           129.0   \n",
       "1    -122.22     37.86                21.0       7099.0          1106.0   \n",
       "2    -122.24     37.85                52.0       1467.0           190.0   \n",
       "3    -122.25     37.85                52.0       1274.0           235.0   \n",
       "4    -122.25     37.85                52.0       1627.0           280.0   \n",
       "\n",
       "   population  households  median_income  median_house_value ocean_proximity  \\\n",
       "0       322.0       126.0         8.3252            452600.0        NEAR BAY   \n",
       "1      2401.0      1138.0         8.3014            358500.0        NEAR BAY   \n",
       "2       496.0       177.0         7.2574            352100.0        NEAR BAY   \n",
       "3       558.0       219.0         5.6431            341300.0        NEAR BAY   \n",
       "4       565.0       259.0         3.8462            342200.0        NEAR BAY   \n",
       "\n",
       "   rooms_per_household  bedrooms_per_room  population_per_household  \n",
       "0             6.984127           0.146591                  2.555556  \n",
       "1             6.238137           0.155797                  2.109842  \n",
       "2             8.288136           0.129516                  2.802260  \n",
       "3             5.817352           0.184458                  2.547945  \n",
       "4             6.281853           0.172096                  2.181467  "
      ]
     },
     "execution_count": 385,
     "metadata": {},
     "output_type": "execute_result"
    }
   ],
   "source": [
    "df.head()"
   ]
  },
  {
   "cell_type": "markdown",
   "id": "32e37d7c",
   "metadata": {},
   "source": [
    "## Question 1\n",
    "\n",
    "What is the most frequent observation (mode) for the column `ocean_proximity`?\n",
    "\n",
    "Options:\n",
    "\n",
    "- NEAR BAY\n",
    "- <1H OCEAN\n",
    "- INLAND\n",
    "- NEAR OCEAN\n",
    "\n",
    "Split the data\n",
    "\n",
    "- Split your data in train/val/test sets, with 60%/20%/20% distribution.\n",
    "- Use Scikit-Learn for that (the `train_test_split` function) and set the seed to 42.\n",
    "- Make sure that the target value (`median_house_value`) is not in your dataframe."
   ]
  },
  {
   "cell_type": "code",
   "execution_count": 386,
   "id": "3300fd5e",
   "metadata": {},
   "outputs": [
    {
     "data": {
      "text/plain": [
       "<1H OCEAN     9136\n",
       "INLAND        6551\n",
       "NEAR OCEAN    2658\n",
       "NEAR BAY      2290\n",
       "ISLAND           5\n",
       "Name: ocean_proximity, dtype: int64"
      ]
     },
     "execution_count": 386,
     "metadata": {},
     "output_type": "execute_result"
    }
   ],
   "source": [
    "df.ocean_proximity.value_counts()"
   ]
  },
  {
   "cell_type": "code",
   "execution_count": 387,
   "id": "aa9ed3b3",
   "metadata": {
    "scrolled": true
   },
   "outputs": [
    {
     "data": {
      "text/plain": [
       "0    <1H OCEAN\n",
       "Name: ocean_proximity, dtype: object"
      ]
     },
     "execution_count": 387,
     "metadata": {},
     "output_type": "execute_result"
    }
   ],
   "source": [
    "df.ocean_proximity.mode()"
   ]
  },
  {
   "cell_type": "markdown",
   "id": "c173263c",
   "metadata": {},
   "source": [
    "#### Answer:  <1H OCEAN"
   ]
  },
  {
   "cell_type": "code",
   "execution_count": 388,
   "id": "6d2affc9",
   "metadata": {},
   "outputs": [],
   "source": [
    "from sklearn.model_selection import train_test_split"
   ]
  },
  {
   "cell_type": "code",
   "execution_count": 389,
   "id": "9561cfeb",
   "metadata": {},
   "outputs": [],
   "source": [
    "df_full_train, df_test = train_test_split(df, test_size=0.2, random_state=42)"
   ]
  },
  {
   "cell_type": "code",
   "execution_count": 390,
   "id": "d05ba1fb",
   "metadata": {},
   "outputs": [],
   "source": [
    "df_train, df_val = train_test_split(df_full_train, test_size=len(df_test), random_state=42)"
   ]
  },
  {
   "cell_type": "code",
   "execution_count": 391,
   "id": "cf9a73b7",
   "metadata": {},
   "outputs": [
    {
     "data": {
      "text/plain": [
       "(12384, 4128, 4128)"
      ]
     },
     "execution_count": 391,
     "metadata": {},
     "output_type": "execute_result"
    }
   ],
   "source": [
    "len(df_train), len(df_test), len(df_val)"
   ]
  },
  {
   "cell_type": "code",
   "execution_count": 392,
   "id": "0bdba320",
   "metadata": {},
   "outputs": [],
   "source": [
    "df_train = df_train.reset_index(drop=True)\n",
    "df_val = df_val.reset_index(drop=True)\n",
    "df_test = df_test.reset_index(drop=True)"
   ]
  },
  {
   "cell_type": "code",
   "execution_count": 393,
   "id": "b4ed4d5e",
   "metadata": {},
   "outputs": [],
   "source": [
    "y_train = df_train.median_house_value.values\n",
    "y_val = df_val.median_house_value.values\n",
    "y_test = df_test.median_house_value.values"
   ]
  },
  {
   "cell_type": "code",
   "execution_count": 394,
   "id": "9cc1e5da",
   "metadata": {},
   "outputs": [],
   "source": [
    "del df_train['median_house_value']\n",
    "del df_val['median_house_value']\n",
    "del df_test['median_house_value']"
   ]
  },
  {
   "cell_type": "code",
   "execution_count": 395,
   "id": "6446cab1",
   "metadata": {},
   "outputs": [
    {
     "data": {
      "text/html": [
       "<div>\n",
       "<style scoped>\n",
       "    .dataframe tbody tr th:only-of-type {\n",
       "        vertical-align: middle;\n",
       "    }\n",
       "\n",
       "    .dataframe tbody tr th {\n",
       "        vertical-align: top;\n",
       "    }\n",
       "\n",
       "    .dataframe thead th {\n",
       "        text-align: right;\n",
       "    }\n",
       "</style>\n",
       "<table border=\"1\" class=\"dataframe\">\n",
       "  <thead>\n",
       "    <tr style=\"text-align: right;\">\n",
       "      <th></th>\n",
       "      <th>longitude</th>\n",
       "      <th>latitude</th>\n",
       "      <th>housing_median_age</th>\n",
       "      <th>total_rooms</th>\n",
       "      <th>total_bedrooms</th>\n",
       "      <th>population</th>\n",
       "      <th>households</th>\n",
       "      <th>median_income</th>\n",
       "      <th>ocean_proximity</th>\n",
       "      <th>rooms_per_household</th>\n",
       "      <th>bedrooms_per_room</th>\n",
       "      <th>population_per_household</th>\n",
       "    </tr>\n",
       "  </thead>\n",
       "  <tbody>\n",
       "    <tr>\n",
       "      <th>0</th>\n",
       "      <td>-119.67</td>\n",
       "      <td>34.43</td>\n",
       "      <td>39.0</td>\n",
       "      <td>1467.0</td>\n",
       "      <td>381.0</td>\n",
       "      <td>1404.0</td>\n",
       "      <td>374.0</td>\n",
       "      <td>2.3681</td>\n",
       "      <td>&lt;1H OCEAN</td>\n",
       "      <td>3.922460</td>\n",
       "      <td>0.259714</td>\n",
       "      <td>3.754011</td>\n",
       "    </tr>\n",
       "    <tr>\n",
       "      <th>1</th>\n",
       "      <td>-118.32</td>\n",
       "      <td>33.74</td>\n",
       "      <td>24.0</td>\n",
       "      <td>6097.0</td>\n",
       "      <td>794.0</td>\n",
       "      <td>2248.0</td>\n",
       "      <td>806.0</td>\n",
       "      <td>10.1357</td>\n",
       "      <td>NEAR OCEAN</td>\n",
       "      <td>7.564516</td>\n",
       "      <td>0.130228</td>\n",
       "      <td>2.789082</td>\n",
       "    </tr>\n",
       "    <tr>\n",
       "      <th>2</th>\n",
       "      <td>-121.62</td>\n",
       "      <td>39.13</td>\n",
       "      <td>41.0</td>\n",
       "      <td>1317.0</td>\n",
       "      <td>309.0</td>\n",
       "      <td>856.0</td>\n",
       "      <td>337.0</td>\n",
       "      <td>1.6719</td>\n",
       "      <td>INLAND</td>\n",
       "      <td>3.908012</td>\n",
       "      <td>0.234624</td>\n",
       "      <td>2.540059</td>\n",
       "    </tr>\n",
       "    <tr>\n",
       "      <th>3</th>\n",
       "      <td>-118.63</td>\n",
       "      <td>34.24</td>\n",
       "      <td>9.0</td>\n",
       "      <td>4759.0</td>\n",
       "      <td>924.0</td>\n",
       "      <td>1884.0</td>\n",
       "      <td>915.0</td>\n",
       "      <td>4.8333</td>\n",
       "      <td>&lt;1H OCEAN</td>\n",
       "      <td>5.201093</td>\n",
       "      <td>0.194158</td>\n",
       "      <td>2.059016</td>\n",
       "    </tr>\n",
       "    <tr>\n",
       "      <th>4</th>\n",
       "      <td>-122.30</td>\n",
       "      <td>37.52</td>\n",
       "      <td>38.0</td>\n",
       "      <td>2769.0</td>\n",
       "      <td>387.0</td>\n",
       "      <td>994.0</td>\n",
       "      <td>395.0</td>\n",
       "      <td>5.5902</td>\n",
       "      <td>NEAR OCEAN</td>\n",
       "      <td>7.010127</td>\n",
       "      <td>0.139762</td>\n",
       "      <td>2.516456</td>\n",
       "    </tr>\n",
       "  </tbody>\n",
       "</table>\n",
       "</div>"
      ],
      "text/plain": [
       "   longitude  latitude  housing_median_age  total_rooms  total_bedrooms  \\\n",
       "0    -119.67     34.43                39.0       1467.0           381.0   \n",
       "1    -118.32     33.74                24.0       6097.0           794.0   \n",
       "2    -121.62     39.13                41.0       1317.0           309.0   \n",
       "3    -118.63     34.24                 9.0       4759.0           924.0   \n",
       "4    -122.30     37.52                38.0       2769.0           387.0   \n",
       "\n",
       "   population  households  median_income ocean_proximity  rooms_per_household  \\\n",
       "0      1404.0       374.0         2.3681       <1H OCEAN             3.922460   \n",
       "1      2248.0       806.0        10.1357      NEAR OCEAN             7.564516   \n",
       "2       856.0       337.0         1.6719          INLAND             3.908012   \n",
       "3      1884.0       915.0         4.8333       <1H OCEAN             5.201093   \n",
       "4       994.0       395.0         5.5902      NEAR OCEAN             7.010127   \n",
       "\n",
       "   bedrooms_per_room  population_per_household  \n",
       "0           0.259714                  3.754011  \n",
       "1           0.130228                  2.789082  \n",
       "2           0.234624                  2.540059  \n",
       "3           0.194158                  2.059016  \n",
       "4           0.139762                  2.516456  "
      ]
     },
     "execution_count": 395,
     "metadata": {},
     "output_type": "execute_result"
    }
   ],
   "source": [
    "df_train.head()"
   ]
  },
  {
   "cell_type": "code",
   "execution_count": 396,
   "id": "20b4c9ba",
   "metadata": {},
   "outputs": [
    {
     "data": {
      "text/plain": [
       "array([241400., 500001.,  64100., ..., 215300., 139000., 181300.])"
      ]
     },
     "execution_count": 396,
     "metadata": {},
     "output_type": "execute_result"
    }
   ],
   "source": [
    "y_train"
   ]
  },
  {
   "cell_type": "markdown",
   "id": "e2ee60a1",
   "metadata": {},
   "source": [
    "## Question 2\n",
    "\n",
    "- Create the correlation matrix for the numerical features of your train dataset.\n",
    "    - In a correlation matrix, you compute the correlation coefficient between every pair of features in the dataset.\n",
    "- What are the two features that have the biggest correlation in this dataset?\n",
    "\n",
    "Options:\n",
    "\n",
    "- `total_bedrooms` and `households`\n",
    "- `total_bedrooms` and `total_rooms`\n",
    "- `population` and `households`\n",
    "- `population_per_household` and `total_rooms`\n",
    "\n",
    "Make `median_house_value` binary\n",
    "\n",
    "- We need to turn the `median_house_value` variable from numeric into binary.\n",
    "- Let's create a variable `above_average` which is `1` if the `median_house_value` is above its mean value and `0` otherwise."
   ]
  },
  {
   "cell_type": "code",
   "execution_count": 397,
   "id": "66556c2c",
   "metadata": {},
   "outputs": [],
   "source": [
    "df_corr = df_train.corr()"
   ]
  },
  {
   "cell_type": "code",
   "execution_count": 398,
   "id": "7d4407c0",
   "metadata": {},
   "outputs": [],
   "source": [
    "import seaborn as sn\n",
    "import matplotlib.pyplot as plt"
   ]
  },
  {
   "cell_type": "code",
   "execution_count": 399,
   "id": "b3f582c7",
   "metadata": {},
   "outputs": [
    {
     "data": {
      "image/png": "[encoded data removed]",
      "text/plain": [
       "<Figure size 640x480 with 2 Axes>"
      ]
     },
     "metadata": {},
     "output_type": "display_data"
    }
   ],
   "source": [
    "sn.heatmap(df_corr, annot=True)\n",
    "plt.show()"
   ]
  },
  {
   "cell_type": "markdown",
   "id": "0970c2b7",
   "metadata": {},
   "source": [
    "#### Answer:   total_bedrooms and households"
   ]
  },
  {
   "cell_type": "markdown",
   "id": "a840fa34",
   "metadata": {},
   "source": [
    "Make median_house_value binary\n",
    "\n",
    "We need to turn the median_house_value variable from numeric into binary.\n",
    "Let's create a variable above_average which is 1 if the median_house_value is above its mean value and 0 otherwise."
   ]
  },
  {
   "cell_type": "code",
   "execution_count": 400,
   "id": "b6706d38",
   "metadata": {},
   "outputs": [],
   "source": [
    "above_average = (y_train > y_train.mean()).astype(int)"
   ]
  },
  {
   "cell_type": "code",
   "execution_count": 401,
   "id": "05f797b4",
   "metadata": {},
   "outputs": [
    {
     "data": {
      "text/plain": [
       "array([1, 1, 0, ..., 1, 0, 0])"
      ]
     },
     "execution_count": 401,
     "metadata": {},
     "output_type": "execute_result"
    }
   ],
   "source": [
    "above_average"
   ]
  },
  {
   "cell_type": "code",
   "execution_count": 402,
   "id": "c6079a9b",
   "metadata": {},
   "outputs": [],
   "source": [
    "y_train_aa = (y_train > y_train.mean()).astype(int)\n",
    "y_val_aa = (y_val > y_val.mean()).astype(int)\n",
    "y_test_aa = (y_test > y_test.mean()).astype(int)"
   ]
  },
  {
   "cell_type": "code",
   "execution_count": 403,
   "id": "542c8227",
   "metadata": {},
   "outputs": [
    {
     "data": {
      "text/plain": [
       "array([0, 0, 1, ..., 1, 0, 0])"
      ]
     },
     "execution_count": 403,
     "metadata": {},
     "output_type": "execute_result"
    }
   ],
   "source": [
    "y_test_aa"
   ]
  },
  {
   "cell_type": "code",
   "execution_count": 404,
   "id": "6f8c4849",
   "metadata": {},
   "outputs": [
    {
     "data": {
      "text/plain": [
       "array([0, 0, 1, ..., 1, 1, 0])"
      ]
     },
     "execution_count": 404,
     "metadata": {},
     "output_type": "execute_result"
    }
   ],
   "source": [
    "y_val_aa"
   ]
  },
  {
   "cell_type": "code",
   "execution_count": 405,
   "id": "32a5f2ad",
   "metadata": {},
   "outputs": [
    {
     "data": {
      "text/plain": [
       "array([0, 0, 1, ..., 1, 0, 0])"
      ]
     },
     "execution_count": 405,
     "metadata": {},
     "output_type": "execute_result"
    }
   ],
   "source": [
    "y_test_aa"
   ]
  },
  {
   "cell_type": "markdown",
   "id": "0117523d",
   "metadata": {},
   "source": [
    "## - Question 3\n",
    "\n",
    "- Calculate the mutual information score with the (binarized) price for the categorical variable that we have. Use the training set only.\n",
    "- What is the value of mutual information?\n",
    "- Round it to 2 decimal digits using round(score, 2)\n",
    "\n",
    "Options:\n",
    "\n",
    "- 0.263\n",
    "- 0.00001\n",
    "- 0.101\n",
    "- 0.15555"
   ]
  },
  {
   "cell_type": "code",
   "execution_count": 406,
   "id": "98364c4a",
   "metadata": {},
   "outputs": [],
   "source": [
    "from sklearn.metrics import mutual_info_score"
   ]
  },
  {
   "cell_type": "code",
   "execution_count": 407,
   "id": "1e1b37fc",
   "metadata": {},
   "outputs": [
    {
     "data": {
      "text/plain": [
       "0.10138385763624205"
      ]
     },
     "execution_count": 407,
     "metadata": {},
     "output_type": "execute_result"
    }
   ],
   "source": [
    "score = mutual_info_score(df_train.ocean_proximity, above_average)\n",
    "score"
   ]
  },
  {
   "cell_type": "code",
   "execution_count": 408,
   "id": "eb40fbdd",
   "metadata": {},
   "outputs": [
    {
     "data": {
      "text/plain": [
       "0.1"
      ]
     },
     "execution_count": 408,
     "metadata": {},
     "output_type": "execute_result"
    }
   ],
   "source": [
    "round(score, 2)"
   ]
  },
  {
   "cell_type": "markdown",
   "id": "75ff6923",
   "metadata": {},
   "source": [
    "#### Answer 0.101"
   ]
  },
  {
   "cell_type": "markdown",
   "id": "e7e58b98",
   "metadata": {},
   "source": [
    "## Question 4\n",
    "\n",
    "- Now let's train a logistic regression\n",
    "- Remember that we have one categorical variable ocean_proximity in the data. Include it using one-hot encoding.\n",
    "- Fit the model on the training dataset.\n",
    "    - To make sure the results are reproducible across different versions of Scikit-Learn, fit the model with these parameters:\n",
    "    - model = LogisticRegression(solver=\"liblinear\", C=1.0, max_iter=1000, random_state=42)\n",
    "- Calculate the accuracy on the validation dataset and round it to 2 decimal digits.\n",
    "\n",
    "Options:\n",
    "\n",
    "- 0.60\n",
    "- 0.72\n",
    "- 0.84\n",
    "- 0.95"
   ]
  },
  {
   "cell_type": "code",
   "execution_count": 409,
   "id": "1a6fb1d4",
   "metadata": {},
   "outputs": [],
   "source": [
    "from sklearn.linear_model import LogisticRegression\n",
    "from sklearn.feature_extraction import DictVectorizer\n",
    "from sklearn.metrics import accuracy_score"
   ]
  },
  {
   "cell_type": "code",
   "execution_count": 410,
   "id": "e326d8a2",
   "metadata": {},
   "outputs": [
    {
     "data": {
      "text/plain": [
       "Index(['longitude', 'latitude', 'housing_median_age', 'total_rooms',\n",
       "       'total_bedrooms', 'population', 'households', 'median_income',\n",
       "       'ocean_proximity', 'rooms_per_household', 'bedrooms_per_room',\n",
       "       'population_per_household'],\n",
       "      dtype='object')"
      ]
     },
     "execution_count": 410,
     "metadata": {},
     "output_type": "execute_result"
    }
   ],
   "source": [
    "df_train.columns"
   ]
  },
  {
   "cell_type": "code",
   "execution_count": 411,
   "id": "1cf0dfc5",
   "metadata": {},
   "outputs": [],
   "source": [
    "categorical = ['ocean_proximity']\n",
    "numerical = ['longitude', 'latitude', 'housing_median_age', 'total_rooms',\n",
    "       'total_bedrooms', 'population', 'households', 'median_income',\n",
    "       'rooms_per_household', 'bedrooms_per_room',\n",
    "       'population_per_household']"
   ]
  },
  {
   "cell_type": "code",
   "execution_count": 412,
   "id": "5d0af356",
   "metadata": {},
   "outputs": [],
   "source": [
    "train_dict = df_train[['ocean_proximity']].to_dict('records')"
   ]
  },
  {
   "cell_type": "code",
   "execution_count": 413,
   "id": "0a2825f9",
   "metadata": {},
   "outputs": [],
   "source": [
    "dv = DictVectorizer(sparse=False)\n",
    "train_dicts = df_train[categorical + numerical].to_dict('records')\n",
    "X_train = dv.fit_transform(train_dicts)\n",
    "\n",
    "val_dicts = df_val[categorical + numerical].to_dict('records')\n",
    "X_val = dv.transform(val_dicts)"
   ]
  },
  {
   "cell_type": "code",
   "execution_count": 414,
   "id": "62243ffb",
   "metadata": {},
   "outputs": [
    {
     "data": {
      "text/html": [
       "<style>#sk-container-id-11 {color: black;background-color: white;}#sk-container-id-11 pre{padding: 0;}#sk-container-id-11 div.sk-toggleable {background-color: white;}#sk-container-id-11 label.sk-toggleable__label {cursor: pointer;display: block;width: 100%;margin-bottom: 0;padding: 0.3em;box-sizing: border-box;text-align: center;}#sk-container-id-11 label.sk-toggleable__label-arrow:before {content: \"▸\";float: left;margin-right: 0.25em;color: #696969;}#sk-container-id-11 label.sk-toggleable__label-arrow:hover:before {color: black;}#sk-container-id-11 div.sk-estimator:hover label.sk-toggleable__label-arrow:before {color: black;}#sk-container-id-11 div.sk-toggleable__content {max-height: 0;max-width: 0;overflow: hidden;text-align: left;background-color: #f0f8ff;}#sk-container-id-11 div.sk-toggleable__content pre {margin: 0.2em;color: black;border-radius: 0.25em;background-color: #f0f8ff;}#sk-container-id-11 input.sk-toggleable__control:checked~div.sk-toggleable__content {max-height: 200px;max-width: 100%;overflow: auto;}#sk-container-id-11 input.sk-toggleable__control:checked~label.sk-toggleable__label-arrow:before {content: \"▾\";}#sk-container-id-11 div.sk-estimator input.sk-toggleable__control:checked~label.sk-toggleable__label {background-color: #d4ebff;}#sk-container-id-11 div.sk-label input.sk-toggleable__control:checked~label.sk-toggleable__label {background-color: #d4ebff;}#sk-container-id-11 input.sk-hidden--visually {border: 0;clip: rect(1px 1px 1px 1px);clip: rect(1px, 1px, 1px, 1px);height: 1px;margin: -1px;overflow: hidden;padding: 0;position: absolute;width: 1px;}#sk-container-id-11 div.sk-estimator {font-family: monospace;background-color: #f0f8ff;border: 1px dotted black;border-radius: 0.25em;box-sizing: border-box;margin-bottom: 0.5em;}#sk-container-id-11 div.sk-estimator:hover {background-color: #d4ebff;}#sk-container-id-11 div.sk-parallel-item::after {content: \"\";width: 100%;border-bottom: 1px solid gray;flex-grow: 1;}#sk-container-id-11 div.sk-label:hover label.sk-toggleable__label {background-color: #d4ebff;}#sk-container-id-11 div.sk-serial::before {content: \"\";position: absolute;border-left: 1px solid gray;box-sizing: border-box;top: 0;bottom: 0;left: 50%;z-index: 0;}#sk-container-id-11 div.sk-serial {display: flex;flex-direction: column;align-items: center;background-color: white;padding-right: 0.2em;padding-left: 0.2em;position: relative;}#sk-container-id-11 div.sk-item {position: relative;z-index: 1;}#sk-container-id-11 div.sk-parallel {display: flex;align-items: stretch;justify-content: center;background-color: white;position: relative;}#sk-container-id-11 div.sk-item::before, #sk-container-id-11 div.sk-parallel-item::before {content: \"\";position: absolute;border-left: 1px solid gray;box-sizing: border-box;top: 0;bottom: 0;left: 50%;z-index: -1;}#sk-container-id-11 div.sk-parallel-item {display: flex;flex-direction: column;z-index: 1;position: relative;background-color: white;}#sk-container-id-11 div.sk-parallel-item:first-child::after {align-self: flex-end;width: 50%;}#sk-container-id-11 div.sk-parallel-item:last-child::after {align-self: flex-start;width: 50%;}#sk-container-id-11 div.sk-parallel-item:only-child::after {width: 0;}#sk-container-id-11 div.sk-dashed-wrapped {border: 1px dashed gray;margin: 0 0.4em 0.5em 0.4em;box-sizing: border-box;padding-bottom: 0.4em;background-color: white;}#sk-container-id-11 div.sk-label label {font-family: monospace;font-weight: bold;display: inline-block;line-height: 1.2em;}#sk-container-id-11 div.sk-label-container {text-align: center;}#sk-container-id-11 div.sk-container {/* jupyter's `normalize.less` sets `[hidden] { display: none; }` but bootstrap.min.css set `[hidden] { display: none !important; }` so we also need the `!important` here to be able to override the default hidden behavior on the sphinx rendered scikit-learn.org. See: https://github.com/scikit-learn/scikit-learn/issues/21755 */display: inline-block !important;position: relative;}#sk-container-id-11 div.sk-text-repr-fallback {display: none;}</style><div id=\"sk-container-id-11\" class=\"sk-top-container\"><div class=\"sk-text-repr-fallback\"><pre>LogisticRegression(max_iter=1000, random_state=42, solver=&#x27;liblinear&#x27;)</pre><b>In a Jupyter environment, please rerun this cell to show the HTML representation or trust the notebook. <br />On GitHub, the HTML representation is unable to render, please try loading this page with nbviewer.org.</b></div><div class=\"sk-container\" hidden><div class=\"sk-item\"><div class=\"sk-estimator sk-toggleable\"><input class=\"sk-toggleable__control sk-hidden--visually\" id=\"sk-estimator-id-11\" type=\"checkbox\" checked><label for=\"sk-estimator-id-11\" class=\"sk-toggleable__label sk-toggleable__label-arrow\">LogisticRegression</label><div class=\"sk-toggleable__content\"><pre>LogisticRegression(max_iter=1000, random_state=42, solver=&#x27;liblinear&#x27;)</pre></div></div></div></div></div>"
      ],
      "text/plain": [
       "LogisticRegression(max_iter=1000, random_state=42, solver='liblinear')"
      ]
     },
     "execution_count": 414,
     "metadata": {},
     "output_type": "execute_result"
    }
   ],
   "source": [
    "model = LogisticRegression(solver=\"liblinear\", C=1.0, max_iter=1000, random_state=42)\n",
    "model.fit(X_train, y_train_aa)"
   ]
  },
  {
   "cell_type": "code",
   "execution_count": 415,
   "id": "7b13bc5a",
   "metadata": {},
   "outputs": [
    {
     "data": {
      "text/plain": [
       "array([0, 0, 1, ..., 1, 1, 0])"
      ]
     },
     "execution_count": 415,
     "metadata": {},
     "output_type": "execute_result"
    }
   ],
   "source": [
    "y_pred = model.predict(X_val)\n",
    "y_pred"
   ]
  },
  {
   "cell_type": "code",
   "execution_count": 416,
   "id": "431ee6c2",
   "metadata": {},
   "outputs": [],
   "source": [
    "accuracy = (y_val_aa == y_pred).mean()"
   ]
  },
  {
   "cell_type": "code",
   "execution_count": 417,
   "id": "b487080e",
   "metadata": {},
   "outputs": [
    {
     "data": {
      "text/plain": [
       "0.84"
      ]
     },
     "execution_count": 417,
     "metadata": {},
     "output_type": "execute_result"
    }
   ],
   "source": [
    "round(accuracy, 2)"
   ]
  },
  {
   "cell_type": "markdown",
   "id": "ea4f1b9e",
   "metadata": {},
   "source": [
    "#### Answer: 0.84"
   ]
  },
  {
   "cell_type": "markdown",
   "id": "0d565b70",
   "metadata": {},
   "source": [
    "## Question 5\n",
    "\n",
    "- Let's find the least useful feature using the feature elimination technique.\n",
    "- Train a model with all these features (using the same parameters as in Q4).\n",
    "- Now exclude each feature from this set and train a model without it. Record the accuracy for each model.\n",
    "- For each feature, calculate the difference between the original accuracy and the accuracy without the feature.\n",
    "- Which of following feature has the smallest difference?\n",
    "    - `total_rooms`\n",
    "    - `total_bedrooms`\n",
    "    - `population`\n",
    "    - `households`\n",
    "    \n",
    "note: the difference doesn't have to be positive"
   ]
  },
  {
   "cell_type": "code",
   "execution_count": 347,
   "id": "c21ffba8",
   "metadata": {},
   "outputs": [],
   "source": [
    "features = ['ocean_proximity',\n",
    "  'longitude',\n",
    "  'latitude',\n",
    "  'housing_median_age',\n",
    "  'total_rooms',\n",
    "  'total_bedrooms',\n",
    "  'population',\n",
    "  'households',\n",
    "  'median_income',\n",
    "  'rooms_per_household',\n",
    "  'bedrooms_per_room',\n",
    "  'population_per_household']"
   ]
  },
  {
   "cell_type": "code",
   "execution_count": 348,
   "id": "6782bc42",
   "metadata": {},
   "outputs": [
    {
     "name": "stdout",
     "output_type": "stream",
     "text": [
      "ocean_proximity 0.7858527131782946 0.050872093023255814\n",
      "longitude 0.7848837209302326 0.05184108527131783\n",
      "latitude 0.7853682170542636 0.05135658914728682\n",
      "housing_median_age 0.7834302325581396 0.05329457364341085\n",
      "total_rooms 0.7846414728682171 0.052083333333333336\n",
      "total_bedrooms 0.784156976744186 0.052567829457364344\n",
      "population 0.7839147286821706 0.05281007751937984\n",
      "households 0.7839147286821706 0.05281007751937984\n",
      "median_income 0.7880329457364341 0.04869186046511628\n",
      "rooms_per_household 0.7856104651162791 0.05111434108527132\n",
      "bedrooms_per_room 0.7848837209302326 0.05184108527131783\n",
      "population_per_household 0.784156976744186 0.052567829457364344\n"
     ]
    }
   ],
   "source": [
    "for f in features:\n",
    "    least_feat = features.copy()\n",
    "    least_feat.remove(f)\n",
    "    \n",
    "    train_dict = df_train[least_feat].to_dict(orient='records')\n",
    "\n",
    "    dv = DictVectorizer(sparse=False)\n",
    "    dv.fit(train_dict)\n",
    "\n",
    "    X_train = dv.transform(train_dict)\n",
    "\n",
    "    model = LogisticRegression(solver=\"liblinear\", C=1.0, max_iter=1000, random_state=42)\n",
    "    model.fit(X_train, y_train)\n",
    "\n",
    "    val_dict = df_val[least_feat].to_dict(orient='records')\n",
    "    X_val = dv.transform(val_dict)\n",
    "\n",
    "    y_pred = model.predict(X_val)\n",
    "\n",
    "    score = accuracy_score(y_val, y_pred)\n",
    "    print(f, accuracy - score, score)"
   ]
  },
  {
   "cell_type": "code",
   "execution_count": 355,
   "id": "598fc1a2",
   "metadata": {},
   "outputs": [],
   "source": [
    "least = [0.052083333333333336, 0.052567829457364344, 0.05281007751937984, 0.05281007751937984]"
   ]
  },
  {
   "cell_type": "code",
   "execution_count": 356,
   "id": "d03e14ea",
   "metadata": {},
   "outputs": [
    {
     "name": "stdout",
     "output_type": "stream",
     "text": [
      "Min:  0\n"
     ]
    }
   ],
   "source": [
    "print(\"Min: \", pd.Series(least).idxmin())"
   ]
  },
  {
   "cell_type": "markdown",
   "id": "c6734432",
   "metadata": {},
   "source": [
    "#### Answer: total_rooms"
   ]
  },
  {
   "cell_type": "markdown",
   "id": "ce261913",
   "metadata": {},
   "source": [
    "## Question 6\n",
    "\n",
    "- For this question, we'll see how to use a linear regression model from Scikit-Learn\n",
    "- We'll need to use the original column `'median_house_value'`. Apply the logarithmic transformation to this column.\n",
    "- Fit the Ridge regression model (`model = Ridge(alpha=a, solver=\"sag\", random_state=42)`) on the training data.\n",
    "- This model has a parameter `alpha`. Let's try the following values: `[0, 0.01, 0.1, 1, 10]`\n",
    "- Which of these alphas leads to the best RMSE on the validation set? Round your RMSE scores to 3 decimal digits.\n",
    "\n",
    "If there are multiple options, select the smallest `alpha`.\n",
    "\n",
    "Options:\n",
    "\n",
    "- 0\n",
    "- 0.01\n",
    "- 0.1\n",
    "- 1\n",
    "- 10"
   ]
  },
  {
   "cell_type": "code",
   "execution_count": 441,
   "id": "1727717a",
   "metadata": {},
   "outputs": [],
   "source": [
    "y_train_log = y_train.copy()\n",
    "y_val_log = y_val.copy()\n",
    "y_test_log = y_test.copy()"
   ]
  },
  {
   "cell_type": "code",
   "execution_count": 442,
   "id": "e1d7d8bc",
   "metadata": {},
   "outputs": [],
   "source": [
    "y_train_log = np.log1p(y_train_log)\n",
    "y_val_log = np.log1p(y_val_log)\n",
    "y_test_log = np.log1p(y_test_log)"
   ]
  },
  {
   "cell_type": "code",
   "execution_count": 443,
   "id": "620c9327",
   "metadata": {},
   "outputs": [],
   "source": [
    "from sklearn.linear_model import Ridge"
   ]
  },
  {
   "cell_type": "code",
   "execution_count": 444,
   "id": "4fe3e172",
   "metadata": {},
   "outputs": [
    {
     "data": {
      "text/plain": [
       "array([ 1.59529807e-01,  1.82000000e+02,  3.50000000e+01,  3.67400000e+01,\n",
       "       -1.19850000e+02,  3.53750000e+00,  0.00000000e+00,  1.00000000e+00,\n",
       "        0.00000000e+00,  0.00000000e+00,  0.00000000e+00,  5.37000000e+02,\n",
       "        2.95054945e+00,  6.54395604e+00,  1.90000000e+02,  1.19100000e+03])"
      ]
     },
     "execution_count": 444,
     "metadata": {},
     "output_type": "execute_result"
    }
   ],
   "source": [
    "X_val[0]"
   ]
  },
  {
   "cell_type": "code",
   "execution_count": 457,
   "id": "2c7859d9",
   "metadata": {},
   "outputs": [
    {
     "name": "stdout",
     "output_type": "stream",
     "text": [
      "0 0.524\n",
      "0.01 0.524\n",
      "0.1 0.524\n",
      "1 0.524\n",
      "10 0.524\n"
     ]
    }
   ],
   "source": [
    "a = [0, 0.01, 0.1, 1, 10]\n",
    "\n",
    "for a in alpha:\n",
    "    model = Ridge(alpha=a, solver=\"sag\", random_state=42)\n",
    "    \n",
    "    dv = DictVectorizer(sparse=False)\n",
    "    dv.fit(train_dict)\n",
    "\n",
    "    train_dicts = df_train[categorical + numerical].to_dict('records')\n",
    "    X_train = dv.fit_transform(train_dicts)\n",
    "\n",
    "    model = Ridge(alpha=a, solver=\"sag\", random_state=42)\n",
    "    model.fit(X_train, y_train_log)\n",
    "\n",
    "    val_dicts = df_val[categorical + numerical].to_dict('records')\n",
    "    X_val = dv.transform(val_dicts)    \n",
    "\n",
    "    y_pred = model.predict(X_val)\n",
    "\n",
    "    rmse = ((y_val_log - y_pred) ** 2).mean() ** .5\n",
    "\n",
    "    print(a, round(rmse, 3))"
   ]
  },
  {
   "cell_type": "markdown",
   "id": "814be7ad",
   "metadata": {},
   "source": [
    "#### Answer:  0"
   ]
  }
 ],
 "metadata": {
  "kernelspec": {
   "display_name": "Python 3 (ipykernel)",
   "language": "python",
   "name": "python3"
  },
  "language_info": {
   "codemirror_mode": {
    "name": "ipython",
    "version": 3
   },
   "file_extension": ".py",
   "mimetype": "text/x-python",
   "name": "python",
   "nbconvert_exporter": "python",
   "pygments_lexer": "ipython3",
   "version": "3.10.4"
  }
 },
 "nbformat": 4,
 "nbformat_minor": 5
}
